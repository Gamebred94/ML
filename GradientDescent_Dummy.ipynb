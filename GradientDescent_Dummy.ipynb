{
  "nbformat": 4,
  "nbformat_minor": 0,
  "metadata": {
    "accelerator": "GPU",
    "colab": {
      "provenance": [],
      "authorship_tag": "ABX9TyODsIebggXv94FZ1DkdJirg",
      "include_colab_link": true
    },
    "kernelspec": {
      "display_name": "Python 3",
      "name": "python3"
    }
  },
  "cells": [
    {
      "cell_type": "markdown",
      "metadata": {
        "id": "view-in-github",
        "colab_type": "text"
      },
      "source": [
        "<a href=\"https://colab.research.google.com/github/Gamebred94/FastAI_V4_P1_course/blob/master/FastAI_V4_L3_MNIST1.ipynb\" target=\"_parent\"><img src=\"https://colab.research.google.com/assets/colab-badge.svg\" alt=\"Open In Colab\"/></a>"
      ]
    },
    {
      "cell_type": "markdown",
      "metadata": {
        "id": "WQry5NDcdQd2"
      },
      "source": [
        "## Imports"
      ]
    },
    {
      "cell_type": "code",
      "metadata": {
        "colab": {
          "base_uri": "https://localhost:8080/"
        },
        "id": "UydSHDcJtveJ",
        "outputId": "ada55f9e-65c9-4e91-e528-a3398436a1f3"
      },
      "source": [
        "#hide\n",
        "!pip install -Uqq fastbook --upgrade"
      ],
      "execution_count": null,
      "outputs": [
        {
          "output_type": "stream",
          "text": [
            "\u001b[?25l\r\u001b[K     |▌                               | 10kB 26.4MB/s eta 0:00:01\r\u001b[K     |█                               | 20kB 20.1MB/s eta 0:00:01\r\u001b[K     |█▍                              | 30kB 24.8MB/s eta 0:00:01\r\u001b[K     |█▉                              | 40kB 21.8MB/s eta 0:00:01\r\u001b[K     |██▎                             | 51kB 23.9MB/s eta 0:00:01\r\u001b[K     |██▊                             | 61kB 25.1MB/s eta 0:00:01\r\u001b[K     |███▏                            | 71kB 24.9MB/s eta 0:00:01\r\u001b[K     |███▋                            | 81kB 26.2MB/s eta 0:00:01\r\u001b[K     |████                            | 92kB 27.8MB/s eta 0:00:01\r\u001b[K     |████▌                           | 102kB 29.0MB/s eta 0:00:01\r\u001b[K     |█████                           | 112kB 29.0MB/s eta 0:00:01\r\u001b[K     |█████▌                          | 122kB 29.0MB/s eta 0:00:01\r\u001b[K     |██████                          | 133kB 29.0MB/s eta 0:00:01\r\u001b[K     |██████▍                         | 143kB 29.0MB/s eta 0:00:01\r\u001b[K     |██████▉                         | 153kB 29.0MB/s eta 0:00:01\r\u001b[K     |███████▎                        | 163kB 29.0MB/s eta 0:00:01\r\u001b[K     |███████▊                        | 174kB 29.0MB/s eta 0:00:01\r\u001b[K     |████████▏                       | 184kB 29.0MB/s eta 0:00:01\r\u001b[K     |████████▋                       | 194kB 29.0MB/s eta 0:00:01\r\u001b[K     |█████████                       | 204kB 29.0MB/s eta 0:00:01\r\u001b[K     |█████████▋                      | 215kB 29.0MB/s eta 0:00:01\r\u001b[K     |██████████                      | 225kB 29.0MB/s eta 0:00:01\r\u001b[K     |██████████▌                     | 235kB 29.0MB/s eta 0:00:01\r\u001b[K     |███████████                     | 245kB 29.0MB/s eta 0:00:01\r\u001b[K     |███████████▍                    | 256kB 29.0MB/s eta 0:00:01\r\u001b[K     |███████████▉                    | 266kB 29.0MB/s eta 0:00:01\r\u001b[K     |████████████▎                   | 276kB 29.0MB/s eta 0:00:01\r\u001b[K     |████████████▊                   | 286kB 29.0MB/s eta 0:00:01\r\u001b[K     |█████████████▏                  | 296kB 29.0MB/s eta 0:00:01\r\u001b[K     |█████████████▋                  | 307kB 29.0MB/s eta 0:00:01\r\u001b[K     |██████████████                  | 317kB 29.0MB/s eta 0:00:01\r\u001b[K     |██████████████▋                 | 327kB 29.0MB/s eta 0:00:01\r\u001b[K     |███████████████                 | 337kB 29.0MB/s eta 0:00:01\r\u001b[K     |███████████████▌                | 348kB 29.0MB/s eta 0:00:01\r\u001b[K     |████████████████                | 358kB 29.0MB/s eta 0:00:01\r\u001b[K     |████████████████▍               | 368kB 29.0MB/s eta 0:00:01\r\u001b[K     |████████████████▉               | 378kB 29.0MB/s eta 0:00:01\r\u001b[K     |█████████████████▎              | 389kB 29.0MB/s eta 0:00:01\r\u001b[K     |█████████████████▊              | 399kB 29.0MB/s eta 0:00:01\r\u001b[K     |██████████████████▏             | 409kB 29.0MB/s eta 0:00:01\r\u001b[K     |██████████████████▋             | 419kB 29.0MB/s eta 0:00:01\r\u001b[K     |███████████████████▏            | 430kB 29.0MB/s eta 0:00:01\r\u001b[K     |███████████████████▋            | 440kB 29.0MB/s eta 0:00:01\r\u001b[K     |████████████████████            | 450kB 29.0MB/s eta 0:00:01\r\u001b[K     |████████████████████▌           | 460kB 29.0MB/s eta 0:00:01\r\u001b[K     |█████████████████████           | 471kB 29.0MB/s eta 0:00:01\r\u001b[K     |█████████████████████▍          | 481kB 29.0MB/s eta 0:00:01\r\u001b[K     |█████████████████████▉          | 491kB 29.0MB/s eta 0:00:01\r\u001b[K     |██████████████████████▎         | 501kB 29.0MB/s eta 0:00:01\r\u001b[K     |██████████████████████▊         | 512kB 29.0MB/s eta 0:00:01\r\u001b[K     |███████████████████████▏        | 522kB 29.0MB/s eta 0:00:01\r\u001b[K     |███████████████████████▋        | 532kB 29.0MB/s eta 0:00:01\r\u001b[K     |████████████████████████▏       | 542kB 29.0MB/s eta 0:00:01\r\u001b[K     |████████████████████████▋       | 552kB 29.0MB/s eta 0:00:01\r\u001b[K     |█████████████████████████       | 563kB 29.0MB/s eta 0:00:01\r\u001b[K     |█████████████████████████▌      | 573kB 29.0MB/s eta 0:00:01\r\u001b[K     |██████████████████████████      | 583kB 29.0MB/s eta 0:00:01\r\u001b[K     |██████████████████████████▍     | 593kB 29.0MB/s eta 0:00:01\r\u001b[K     |██████████████████████████▉     | 604kB 29.0MB/s eta 0:00:01\r\u001b[K     |███████████████████████████▎    | 614kB 29.0MB/s eta 0:00:01\r\u001b[K     |███████████████████████████▊    | 624kB 29.0MB/s eta 0:00:01\r\u001b[K     |████████████████████████████▏   | 634kB 29.0MB/s eta 0:00:01\r\u001b[K     |████████████████████████████▊   | 645kB 29.0MB/s eta 0:00:01\r\u001b[K     |█████████████████████████████▏  | 655kB 29.0MB/s eta 0:00:01\r\u001b[K     |█████████████████████████████▋  | 665kB 29.0MB/s eta 0:00:01\r\u001b[K     |██████████████████████████████  | 675kB 29.0MB/s eta 0:00:01\r\u001b[K     |██████████████████████████████▌ | 686kB 29.0MB/s eta 0:00:01\r\u001b[K     |███████████████████████████████ | 696kB 29.0MB/s eta 0:00:01\r\u001b[K     |███████████████████████████████▍| 706kB 29.0MB/s eta 0:00:01\r\u001b[K     |███████████████████████████████▉| 716kB 29.0MB/s eta 0:00:01\r\u001b[K     |████████████████████████████████| 727kB 29.0MB/s \n",
            "\u001b[K     |████████████████████████████████| 51kB 8.3MB/s \n",
            "\u001b[K     |████████████████████████████████| 194kB 42.3MB/s \n",
            "\u001b[K     |████████████████████████████████| 1.2MB 49.7MB/s \n",
            "\u001b[K     |████████████████████████████████| 61kB 9.0MB/s \n",
            "\u001b[K     |████████████████████████████████| 61kB 10.0MB/s \n",
            "\u001b[?25h"
          ],
          "name": "stdout"
        }
      ]
    },
    {
      "cell_type": "code",
      "metadata": {
        "colab": {
          "base_uri": "https://localhost:8080/"
        },
        "id": "fwXeuPSc0Zo1",
        "outputId": "257edf8f-4817-420e-b585-fa4294cb818f"
      },
      "source": [
        "import fastbook\n",
        "fastbook.setup_book()"
      ],
      "execution_count": null,
      "outputs": [
        {
          "output_type": "stream",
          "text": [
            "Mounted at /content/gdrive\n"
          ],
          "name": "stdout"
        }
      ]
    },
    {
      "cell_type": "code",
      "metadata": {
        "id": "ll4yzyLi6wZZ"
      },
      "source": [
        "from fastai.vision.all import *\n",
        "from fastbook import *\n",
        "import joblib\n",
        "matplotlib.rc('image', cmap='Greys')\n",
        "\n",
        "root_dir = \"gdrive/MyDrive/\"\n",
        "base_dir = root_dir + \"fastai-v4/\"\n",
        "dest = base_dir + \"lesson3-MNIST\"\n"
      ],
      "execution_count": null,
      "outputs": []
    },
    {
      "cell_type": "code",
      "metadata": {
        "id": "pkW3fOglyygs"
      },
      "source": [
        "path = untar_data(URLs.MNIST_SAMPLE,dest=dest)\n",
        "%cd 'gdrive/My Drive/fastai-v4/lesson3-MNIST/'"
      ],
      "execution_count": null,
      "outputs": []
    },
    {
      "cell_type": "code",
      "metadata": {
        "colab": {
          "base_uri": "https://localhost:8080/"
        },
        "id": "OjLbKkypVPXp",
        "outputId": "34393753-6ea3-4ccb-a828-a1255168d123"
      },
      "source": [
        "path"
      ],
      "execution_count": null,
      "outputs": [
        {
          "output_type": "execute_result",
          "data": {
            "text/plain": [
              "Path('gdrive/MyDrive/fastai-v4/lesson3-MNIST/mnist_sample')"
            ]
          },
          "metadata": {
            "tags": []
          },
          "execution_count": 5
        }
      ]
    },
    {
      "cell_type": "code",
      "metadata": {
        "id": "ZlkLcKzm9zjE"
      },
      "source": [
        "Path.BASE_PATH = path"
      ],
      "execution_count": null,
      "outputs": []
    },
    {
      "cell_type": "code",
      "metadata": {
        "colab": {
          "base_uri": "https://localhost:8080/"
        },
        "id": "u-78zpoK-GQV",
        "outputId": "240cbe6a-3f04-4687-985b-d4585a4689a5"
      },
      "source": [
        "path.ls()"
      ],
      "execution_count": null,
      "outputs": [
        {
          "output_type": "execute_result",
          "data": {
            "text/plain": [
              "(#3) [Path('labels.csv'),Path('valid'),Path('train')]"
            ]
          },
          "metadata": {
            "tags": []
          },
          "execution_count": 7
        }
      ]
    },
    {
      "cell_type": "code",
      "metadata": {
        "colab": {
          "base_uri": "https://localhost:8080/"
        },
        "id": "4xCJ_KPx8tkp",
        "outputId": "cec3b822-439f-4211-fee5-8ce1649e3757"
      },
      "source": [
        "(path/'train').ls()"
      ],
      "execution_count": null,
      "outputs": [
        {
          "output_type": "execute_result",
          "data": {
            "text/plain": [
              "(#2) [Path('train/3'),Path('train/7')]"
            ]
          },
          "metadata": {
            "tags": []
          },
          "execution_count": 8
        }
      ]
    },
    {
      "cell_type": "code",
      "metadata": {
        "colab": {
          "base_uri": "https://localhost:8080/"
        },
        "id": "89N5K50X_MHR",
        "outputId": "c242af44-a9ad-4d01-b72b-59b4be9080aa"
      },
      "source": [
        "threes = (path/'train'/'3').ls().sorted()\n",
        "sevens =(path/'train'/'7').ls().sorted()\n",
        "threes"
      ],
      "execution_count": null,
      "outputs": [
        {
          "output_type": "execute_result",
          "data": {
            "text/plain": [
              "(#6131) [Path('train/3/10.png'),Path('train/3/10000.png'),Path('train/3/10011.png'),Path('train/3/10031.png'),Path('train/3/10034.png'),Path('train/3/10042.png'),Path('train/3/10052.png'),Path('train/3/1007.png'),Path('train/3/10074.png'),Path('train/3/10091.png')...]"
            ]
          },
          "metadata": {
            "tags": []
          },
          "execution_count": 9
        }
      ]
    },
    {
      "cell_type": "code",
      "metadata": {
        "colab": {
          "base_uri": "https://localhost:8080/",
          "height": 44
        },
        "id": "x6qqGhOq_oB4",
        "outputId": "d49efe79-095c-4d1c-f179-44f86fe17f6a"
      },
      "source": [
        "im3_path = threes[1]\n",
        "im3 = Image.open(im3_path)\n",
        "im3"
      ],
      "execution_count": null,
      "outputs": [
        {
          "output_type": "execute_result",
          "data": {
            "image/png": "[encoded data removed]",
            "text/plain": [
              "<PIL.PngImagePlugin.PngImageFile image mode=L size=28x28 at 0x7F86FA990F90>"
            ]
          },
          "metadata": {
            "tags": []
          },
          "execution_count": 10
        }
      ]
    },
    {
      "cell_type": "code",
      "metadata": {
        "colab": {
          "base_uri": "https://localhost:8080/"
        },
        "id": "OivgL19SAKJJ",
        "outputId": "bb023534-6f5f-4c6c-fbf5-6cfe5364d678"
      },
      "source": [
        "tensor(Image.open(sevens[0])).shape"
      ],
      "execution_count": null,
      "outputs": [
        {
          "output_type": "execute_result",
          "data": {
            "text/plain": [
              "torch.Size([28, 28])"
            ]
          },
          "metadata": {
            "tags": []
          },
          "execution_count": 11
        }
      ]
    },
    {
      "cell_type": "code",
      "metadata": {
        "id": "khBM0hhnZbya",
        "colab": {
          "base_uri": "https://localhost:8080/"
        },
        "outputId": "c351d17b-0725-482e-89e9-f9d5cd83c397"
      },
      "source": [
        "type(im3)"
      ],
      "execution_count": null,
      "outputs": [
        {
          "output_type": "execute_result",
          "data": {
            "text/plain": [
              "PIL.PngImagePlugin.PngImageFile"
            ]
          },
          "metadata": {
            "tags": []
          },
          "execution_count": 12
        }
      ]
    },
    {
      "cell_type": "code",
      "metadata": {
        "id": "0F2rQWotZ04M",
        "colab": {
          "base_uri": "https://localhost:8080/"
        },
        "outputId": "aa9b62cd-fe0a-46e0-86b1-168e6bb05782"
      },
      "source": [
        "array(im3) # representation of 3 as numbers"
      ],
      "execution_count": null,
      "outputs": [
        {
          "output_type": "execute_result",
          "data": {
            "text/plain": [
              "array([[  0,   0,   0,   0,   0,   0,   0,   0,   0,   0,   0,   0,   0,   0,   0,   0,   0,   0,   0,   0,   0,   0,   0,   0,   0,   0,   0,   0],\n",
              "       [  0,   0,   0,   0,   0,   0,   0,   0,   0,   0,   0,   0,   0,   0,   0,   0,   0,   0,   0,   0,   0,   0,   0,   0,   0,   0,   0,   0],\n",
              "       [  0,   0,   0,   0,   0,   0,   0,   0,   0,   0,   0,   0,   0,   0,   0,   0,   0,   0,   0,   0,   0,   0,   0,   0,   0,   0,   0,   0],\n",
              "       [  0,   0,   0,   0,   0,   0,   0,   0,   0,   0,   0,   0,   0,   0,   0,   0,   0,   0,   0,   0,   0,   0,   0,   0,   0,   0,   0,   0],\n",
              "       [  0,   0,   0,   0,   0,   0,   0,   0,   0,   0,   0,   0,   0,   0,   0,   0,   0,   0,   0,   0,   0,   0,   0,   0,   0,   0,   0,   0],\n",
              "       [  0,   0,   0,   0,   0,   0,   0,   0,   0,  29, 150, 195, 254, 255, 254, 176, 193, 150,  96,   0,   0,   0,   0,   0,   0,   0,   0,   0],\n",
              "       [  0,   0,   0,   0,   0,   0,   0,  48, 166, 224, 253, 253, 234, 196, 253, 253, 253, 253, 233,   0,   0,   0,   0,   0,   0,   0,   0,   0],\n",
              "       [  0,   0,   0,   0,   0,  93, 244, 249, 253, 187,  46,  10,   8,   4,  10, 194, 253, 253, 233,   0,   0,   0,   0,   0,   0,   0,   0,   0],\n",
              "       [  0,   0,   0,   0,   0, 107, 253, 253, 230,  48,   0,   0,   0,   0,   0, 192, 253, 253, 156,   0,   0,   0,   0,   0,   0,   0,   0,   0],\n",
              "       [  0,   0,   0,   0,   0,   3,  20,  20,  15,   0,   0,   0,   0,   0,  43, 224, 253, 245,  74,   0,   0,   0,   0,   0,   0,   0,   0,   0],\n",
              "       [  0,   0,   0,   0,   0,   0,   0,   0,   0,   0,   0,   0,   0,   0, 249, 253, 245, 126,   0,   0,   0,   0,   0,   0,   0,   0,   0,   0],\n",
              "       [  0,   0,   0,   0,   0,   0,   0,   0,   0,   0,   0,  14, 101, 223, 253, 248, 124,   0,   0,   0,   0,   0,   0,   0,   0,   0,   0,   0],\n",
              "       [  0,   0,   0,   0,   0,   0,   0,   0,   0,  11, 166, 239, 253, 253, 253, 187,  30,   0,   0,   0,   0,   0,   0,   0,   0,   0,   0,   0],\n",
              "       [  0,   0,   0,   0,   0,   0,   0,   0,   0,  16, 248, 250, 253, 253, 253, 253, 232, 213, 111,   2,   0,   0,   0,   0,   0,   0,   0,   0],\n",
              "       [  0,   0,   0,   0,   0,   0,   0,   0,   0,   0,   0,  43,  98,  98, 208, 253, 253, 253, 253, 187,  22,   0,   0,   0,   0,   0,   0,   0],\n",
              "       [  0,   0,   0,   0,   0,   0,   0,   0,   0,   0,   0,   0,   0,   0,   9,  51, 119, 253, 253, 253,  76,   0,   0,   0,   0,   0,   0,   0],\n",
              "       [  0,   0,   0,   0,   0,   0,   0,   0,   0,   0,   0,   0,   0,   0,   0,   0,   1, 183, 253, 253, 139,   0,   0,   0,   0,   0,   0,   0],\n",
              "       [  0,   0,   0,   0,   0,   0,   0,   0,   0,   0,   0,   0,   0,   0,   0,   0,   0, 182, 253, 253, 104,   0,   0,   0,   0,   0,   0,   0],\n",
              "       [  0,   0,   0,   0,   0,   0,   0,   0,   0,   0,   0,   0,   0,   0,   0,   0,  85, 249, 253, 253,  36,   0,   0,   0,   0,   0,   0,   0],\n",
              "       [  0,   0,   0,   0,   0,   0,   0,   0,   0,   0,   0,   0,   0,   0,   0,  60, 214, 253, 253, 173,  11,   0,   0,   0,   0,   0,   0,   0],\n",
              "       [  0,   0,   0,   0,   0,   0,   0,   0,   0,   0,   0,   0,   0,   0,  98, 247, 253, 253, 226,   9,   0,   0,   0,   0,   0,   0,   0,   0],\n",
              "       [  0,   0,   0,   0,   0,   0,   0,   0,   0,   0,   0,   0,  42, 150, 252, 253, 253, 233,  53,   0,   0,   0,   0,   0,   0,   0,   0,   0],\n",
              "       [  0,   0,   0,   0,   0,   0,  42, 115,  42,  60, 115, 159, 240, 253, 253, 250, 175,  25,   0,   0,   0,   0,   0,   0,   0,   0,   0,   0],\n",
              "       [  0,   0,   0,   0,   0,   0, 187, 253, 253, 253, 253, 253, 253, 253, 197,  86,   0,   0,   0,   0,   0,   0,   0,   0,   0,   0,   0,   0],\n",
              "       [  0,   0,   0,   0,   0,   0, 103, 253, 253, 253, 253, 253, 232,  67,   1,   0,   0,   0,   0,   0,   0,   0,   0,   0,   0,   0,   0,   0],\n",
              "       [  0,   0,   0,   0,   0,   0,   0,   0,   0,   0,   0,   0,   0,   0,   0,   0,   0,   0,   0,   0,   0,   0,   0,   0,   0,   0,   0,   0],\n",
              "       [  0,   0,   0,   0,   0,   0,   0,   0,   0,   0,   0,   0,   0,   0,   0,   0,   0,   0,   0,   0,   0,   0,   0,   0,   0,   0,   0,   0],\n",
              "       [  0,   0,   0,   0,   0,   0,   0,   0,   0,   0,   0,   0,   0,   0,   0,   0,   0,   0,   0,   0,   0,   0,   0,   0,   0,   0,   0,   0]], dtype=uint8)"
            ]
          },
          "metadata": {
            "tags": []
          },
          "execution_count": 13
        }
      ]
    },
    {
      "cell_type": "code",
      "metadata": {
        "id": "-dtd9svHwYVF",
        "colab": {
          "base_uri": "https://localhost:8080/"
        },
        "outputId": "bd012dbd-f5a7-4f11-ac83-5869c904c773"
      },
      "source": [
        "# Slicing the top left corner of the image\n",
        "array(im3)[4:10,4:10]"
      ],
      "execution_count": null,
      "outputs": [
        {
          "output_type": "execute_result",
          "data": {
            "text/plain": [
              "array([[  0,   0,   0,   0,   0,   0],\n",
              "       [  0,   0,   0,   0,   0,  29],\n",
              "       [  0,   0,   0,  48, 166, 224],\n",
              "       [  0,  93, 244, 249, 253, 187],\n",
              "       [  0, 107, 253, 253, 230,  48],\n",
              "       [  0,   3,  20,  20,  15,   0]], dtype=uint8)"
            ]
          },
          "metadata": {
            "tags": []
          },
          "execution_count": 14
        }
      ]
    },
    {
      "cell_type": "code",
      "metadata": {
        "id": "tvW72urvxjLl",
        "colab": {
          "base_uri": "https://localhost:8080/"
        },
        "outputId": "53320610-6de5-4642-c7d1-12fb1c91d351"
      },
      "source": [
        "# same thing as a pytorch tensor\n",
        "tensor(im3)[4:10,4:10]"
      ],
      "execution_count": null,
      "outputs": [
        {
          "output_type": "execute_result",
          "data": {
            "text/plain": [
              "tensor([[  0,   0,   0,   0,   0,   0],\n",
              "        [  0,   0,   0,   0,   0,  29],\n",
              "        [  0,   0,   0,  48, 166, 224],\n",
              "        [  0,  93, 244, 249, 253, 187],\n",
              "        [  0, 107, 253, 253, 230,  48],\n",
              "        [  0,   3,  20,  20,  15,   0]], dtype=torch.uint8)"
            ]
          },
          "metadata": {
            "tags": []
          },
          "execution_count": 15
        }
      ]
    },
    {
      "cell_type": "markdown",
      "metadata": {
        "id": "RjiyU1VZ4Vdh"
      },
      "source": [
        "Slicing the array to pick just the part with the top of the digit in it, and then use a Pandas DataFrame to color-code the values using a gradient,\n",
        "which shows us clearly how the image is created and rendered by PIL from the pixel values:"
      ]
    },
    {
      "cell_type": "code",
      "metadata": {
        "colab": {
          "base_uri": "https://localhost:8080/",
          "height": 231
        },
        "id": "3I1PQ_uDA2fd",
        "outputId": "525f61e3-a502-4e16-fe7a-0b114d7f7af1"
      },
      "source": [
        "im3_t = tensor(im3)\n",
        "df = pd.DataFrame(im3_t[4:15, 4:22])\n",
        "df.style.set_properties(**{'font-size' : '10pt'}).background_gradient('Greys')"
      ],
      "execution_count": null,
      "outputs": [
        {
          "output_type": "execute_result",
          "data": {
            "text/html": [
              "<style  type=\"text/css\" >\n",
              "#T_eddeeb66_a6f7_11eb_b209_0242ac1c0002row0_col0,#T_eddeeb66_a6f7_11eb_b209_0242ac1c0002row0_col1,#T_eddeeb66_a6f7_11eb_b209_0242ac1c0002row0_col2,#T_eddeeb66_a6f7_11eb_b209_0242ac1c0002row0_col3,#T_eddeeb66_a6f7_11eb_b209_0242ac1c0002row0_col4,#T_eddeeb66_a6f7_11eb_b209_0242ac1c0002row0_col5,#T_eddeeb66_a6f7_11eb_b209_0242ac1c0002row0_col6,#T_eddeeb66_a6f7_11eb_b209_0242ac1c0002row0_col7,#T_eddeeb66_a6f7_11eb_b209_0242ac1c0002row0_col8,#T_eddeeb66_a6f7_11eb_b209_0242ac1c0002row0_col9,#T_eddeeb66_a6f7_11eb_b209_0242ac1c0002row0_col10,#T_eddeeb66_a6f7_11eb_b209_0242ac1c0002row0_col11,#T_eddeeb66_a6f7_11eb_b209_0242ac1c0002row0_col12,#T_eddeeb66_a6f7_11eb_b209_0242ac1c0002row0_col13,#T_eddeeb66_a6f7_11eb_b209_0242ac1c0002row0_col14,#T_eddeeb66_a6f7_11eb_b209_0242ac1c0002row0_col15,#T_eddeeb66_a6f7_11eb_b209_0242ac1c0002row0_col16,#T_eddeeb66_a6f7_11eb_b209_0242ac1c0002row0_col17,#T_eddeeb66_a6f7_11eb_b209_0242ac1c0002row1_col0,#T_eddeeb66_a6f7_11eb_b209_0242ac1c0002row1_col1,#T_eddeeb66_a6f7_11eb_b209_0242ac1c0002row1_col2,#T_eddeeb66_a6f7_11eb_b209_0242ac1c0002row1_col3,#T_eddeeb66_a6f7_11eb_b209_0242ac1c0002row1_col4,#T_eddeeb66_a6f7_11eb_b209_0242ac1c0002row1_col15,#T_eddeeb66_a6f7_11eb_b209_0242ac1c0002row1_col16,#T_eddeeb66_a6f7_11eb_b209_0242ac1c0002row1_col17,#T_eddeeb66_a6f7_11eb_b209_0242ac1c0002row2_col0,#T_eddeeb66_a6f7_11eb_b209_0242ac1c0002row2_col1,#T_eddeeb66_a6f7_11eb_b209_0242ac1c0002row2_col2,#T_eddeeb66_a6f7_11eb_b209_0242ac1c0002row2_col15,#T_eddeeb66_a6f7_11eb_b209_0242ac1c0002row2_col16,#T_eddeeb66_a6f7_11eb_b209_0242ac1c0002row2_col17,#T_eddeeb66_a6f7_11eb_b209_0242ac1c0002row3_col0,#T_eddeeb66_a6f7_11eb_b209_0242ac1c0002row3_col15,#T_eddeeb66_a6f7_11eb_b209_0242ac1c0002row3_col16,#T_eddeeb66_a6f7_11eb_b209_0242ac1c0002row3_col17,#T_eddeeb66_a6f7_11eb_b209_0242ac1c0002row4_col0,#T_eddeeb66_a6f7_11eb_b209_0242ac1c0002row4_col6,#T_eddeeb66_a6f7_11eb_b209_0242ac1c0002row4_col7,#T_eddeeb66_a6f7_11eb_b209_0242ac1c0002row4_col8,#T_eddeeb66_a6f7_11eb_b209_0242ac1c0002row4_col9,#T_eddeeb66_a6f7_11eb_b209_0242ac1c0002row4_col10,#T_eddeeb66_a6f7_11eb_b209_0242ac1c0002row4_col15,#T_eddeeb66_a6f7_11eb_b209_0242ac1c0002row4_col16,#T_eddeeb66_a6f7_11eb_b209_0242ac1c0002row4_col17,#T_eddeeb66_a6f7_11eb_b209_0242ac1c0002row5_col0,#T_eddeeb66_a6f7_11eb_b209_0242ac1c0002row5_col5,#T_eddeeb66_a6f7_11eb_b209_0242ac1c0002row5_col6,#T_eddeeb66_a6f7_11eb_b209_0242ac1c0002row5_col7,#T_eddeeb66_a6f7_11eb_b209_0242ac1c0002row5_col8,#T_eddeeb66_a6f7_11eb_b209_0242ac1c0002row5_col9,#T_eddeeb66_a6f7_11eb_b209_0242ac1c0002row5_col15,#T_eddeeb66_a6f7_11eb_b209_0242ac1c0002row5_col16,#T_eddeeb66_a6f7_11eb_b209_0242ac1c0002row5_col17,#T_eddeeb66_a6f7_11eb_b209_0242ac1c0002row6_col0,#T_eddeeb66_a6f7_11eb_b209_0242ac1c0002row6_col1,#T_eddeeb66_a6f7_11eb_b209_0242ac1c0002row6_col2,#T_eddeeb66_a6f7_11eb_b209_0242ac1c0002row6_col3,#T_eddeeb66_a6f7_11eb_b209_0242ac1c0002row6_col4,#T_eddeeb66_a6f7_11eb_b209_0242ac1c0002row6_col5,#T_eddeeb66_a6f7_11eb_b209_0242ac1c0002row6_col6,#T_eddeeb66_a6f7_11eb_b209_0242ac1c0002row6_col7,#T_eddeeb66_a6f7_11eb_b209_0242ac1c0002row6_col8,#T_eddeeb66_a6f7_11eb_b209_0242ac1c0002row6_col9,#T_eddeeb66_a6f7_11eb_b209_0242ac1c0002row6_col14,#T_eddeeb66_a6f7_11eb_b209_0242ac1c0002row6_col15,#T_eddeeb66_a6f7_11eb_b209_0242ac1c0002row6_col16,#T_eddeeb66_a6f7_11eb_b209_0242ac1c0002row6_col17,#T_eddeeb66_a6f7_11eb_b209_0242ac1c0002row7_col0,#T_eddeeb66_a6f7_11eb_b209_0242ac1c0002row7_col1,#T_eddeeb66_a6f7_11eb_b209_0242ac1c0002row7_col2,#T_eddeeb66_a6f7_11eb_b209_0242ac1c0002row7_col3,#T_eddeeb66_a6f7_11eb_b209_0242ac1c0002row7_col4,#T_eddeeb66_a6f7_11eb_b209_0242ac1c0002row7_col5,#T_eddeeb66_a6f7_11eb_b209_0242ac1c0002row7_col6,#T_eddeeb66_a6f7_11eb_b209_0242ac1c0002row7_col13,#T_eddeeb66_a6f7_11eb_b209_0242ac1c0002row7_col14,#T_eddeeb66_a6f7_11eb_b209_0242ac1c0002row7_col15,#T_eddeeb66_a6f7_11eb_b209_0242ac1c0002row7_col16,#T_eddeeb66_a6f7_11eb_b209_0242ac1c0002row7_col17,#T_eddeeb66_a6f7_11eb_b209_0242ac1c0002row8_col0,#T_eddeeb66_a6f7_11eb_b209_0242ac1c0002row8_col1,#T_eddeeb66_a6f7_11eb_b209_0242ac1c0002row8_col2,#T_eddeeb66_a6f7_11eb_b209_0242ac1c0002row8_col3,#T_eddeeb66_a6f7_11eb_b209_0242ac1c0002row8_col4,#T_eddeeb66_a6f7_11eb_b209_0242ac1c0002row8_col13,#T_eddeeb66_a6f7_11eb_b209_0242ac1c0002row8_col14,#T_eddeeb66_a6f7_11eb_b209_0242ac1c0002row8_col15,#T_eddeeb66_a6f7_11eb_b209_0242ac1c0002row8_col16,#T_eddeeb66_a6f7_11eb_b209_0242ac1c0002row8_col17,#T_eddeeb66_a6f7_11eb_b209_0242ac1c0002row9_col0,#T_eddeeb66_a6f7_11eb_b209_0242ac1c0002row9_col1,#T_eddeeb66_a6f7_11eb_b209_0242ac1c0002row9_col2,#T_eddeeb66_a6f7_11eb_b209_0242ac1c0002row9_col3,#T_eddeeb66_a6f7_11eb_b209_0242ac1c0002row9_col4,#T_eddeeb66_a6f7_11eb_b209_0242ac1c0002row9_col16,#T_eddeeb66_a6f7_11eb_b209_0242ac1c0002row9_col17,#T_eddeeb66_a6f7_11eb_b209_0242ac1c0002row10_col0,#T_eddeeb66_a6f7_11eb_b209_0242ac1c0002row10_col1,#T_eddeeb66_a6f7_11eb_b209_0242ac1c0002row10_col2,#T_eddeeb66_a6f7_11eb_b209_0242ac1c0002row10_col3,#T_eddeeb66_a6f7_11eb_b209_0242ac1c0002row10_col4,#T_eddeeb66_a6f7_11eb_b209_0242ac1c0002row10_col5,#T_eddeeb66_a6f7_11eb_b209_0242ac1c0002row10_col6,#T_eddeeb66_a6f7_11eb_b209_0242ac1c0002row10_col17{\n",
              "            font-size:  10pt;\n",
              "            background-color:  #ffffff;\n",
              "            color:  #000000;\n",
              "        }#T_eddeeb66_a6f7_11eb_b209_0242ac1c0002row1_col5{\n",
              "            font-size:  10pt;\n",
              "            background-color:  #efefef;\n",
              "            color:  #000000;\n",
              "        }#T_eddeeb66_a6f7_11eb_b209_0242ac1c0002row1_col6,#T_eddeeb66_a6f7_11eb_b209_0242ac1c0002row1_col13{\n",
              "            font-size:  10pt;\n",
              "            background-color:  #7c7c7c;\n",
              "            color:  #000000;\n",
              "        }#T_eddeeb66_a6f7_11eb_b209_0242ac1c0002row1_col7{\n",
              "            font-size:  10pt;\n",
              "            background-color:  #4a4a4a;\n",
              "            color:  #f1f1f1;\n",
              "        }#T_eddeeb66_a6f7_11eb_b209_0242ac1c0002row1_col8,#T_eddeeb66_a6f7_11eb_b209_0242ac1c0002row1_col9,#T_eddeeb66_a6f7_11eb_b209_0242ac1c0002row1_col10,#T_eddeeb66_a6f7_11eb_b209_0242ac1c0002row2_col5,#T_eddeeb66_a6f7_11eb_b209_0242ac1c0002row2_col6,#T_eddeeb66_a6f7_11eb_b209_0242ac1c0002row2_col7,#T_eddeeb66_a6f7_11eb_b209_0242ac1c0002row2_col11,#T_eddeeb66_a6f7_11eb_b209_0242ac1c0002row2_col12,#T_eddeeb66_a6f7_11eb_b209_0242ac1c0002row2_col13,#T_eddeeb66_a6f7_11eb_b209_0242ac1c0002row3_col4,#T_eddeeb66_a6f7_11eb_b209_0242ac1c0002row3_col12,#T_eddeeb66_a6f7_11eb_b209_0242ac1c0002row3_col13,#T_eddeeb66_a6f7_11eb_b209_0242ac1c0002row4_col1,#T_eddeeb66_a6f7_11eb_b209_0242ac1c0002row4_col2,#T_eddeeb66_a6f7_11eb_b209_0242ac1c0002row4_col3,#T_eddeeb66_a6f7_11eb_b209_0242ac1c0002row4_col12,#T_eddeeb66_a6f7_11eb_b209_0242ac1c0002row4_col13,#T_eddeeb66_a6f7_11eb_b209_0242ac1c0002row5_col12,#T_eddeeb66_a6f7_11eb_b209_0242ac1c0002row6_col11,#T_eddeeb66_a6f7_11eb_b209_0242ac1c0002row9_col11,#T_eddeeb66_a6f7_11eb_b209_0242ac1c0002row10_col11,#T_eddeeb66_a6f7_11eb_b209_0242ac1c0002row10_col12,#T_eddeeb66_a6f7_11eb_b209_0242ac1c0002row10_col13,#T_eddeeb66_a6f7_11eb_b209_0242ac1c0002row10_col14,#T_eddeeb66_a6f7_11eb_b209_0242ac1c0002row10_col15,#T_eddeeb66_a6f7_11eb_b209_0242ac1c0002row10_col16{\n",
              "            font-size:  10pt;\n",
              "            background-color:  #000000;\n",
              "            color:  #f1f1f1;\n",
              "        }#T_eddeeb66_a6f7_11eb_b209_0242ac1c0002row1_col11{\n",
              "            font-size:  10pt;\n",
              "            background-color:  #606060;\n",
              "            color:  #f1f1f1;\n",
              "        }#T_eddeeb66_a6f7_11eb_b209_0242ac1c0002row1_col12{\n",
              "            font-size:  10pt;\n",
              "            background-color:  #4d4d4d;\n",
              "            color:  #f1f1f1;\n",
              "        }#T_eddeeb66_a6f7_11eb_b209_0242ac1c0002row1_col14{\n",
              "            font-size:  10pt;\n",
              "            background-color:  #bbbbbb;\n",
              "            color:  #000000;\n",
              "        }#T_eddeeb66_a6f7_11eb_b209_0242ac1c0002row2_col3{\n",
              "            font-size:  10pt;\n",
              "            background-color:  #e4e4e4;\n",
              "            color:  #000000;\n",
              "        }#T_eddeeb66_a6f7_11eb_b209_0242ac1c0002row2_col4,#T_eddeeb66_a6f7_11eb_b209_0242ac1c0002row8_col6{\n",
              "            font-size:  10pt;\n",
              "            background-color:  #6b6b6b;\n",
              "            color:  #000000;\n",
              "        }#T_eddeeb66_a6f7_11eb_b209_0242ac1c0002row2_col8,#T_eddeeb66_a6f7_11eb_b209_0242ac1c0002row2_col14,#T_eddeeb66_a6f7_11eb_b209_0242ac1c0002row3_col14{\n",
              "            font-size:  10pt;\n",
              "            background-color:  #171717;\n",
              "            color:  #f1f1f1;\n",
              "        }#T_eddeeb66_a6f7_11eb_b209_0242ac1c0002row2_col9,#T_eddeeb66_a6f7_11eb_b209_0242ac1c0002row3_col11{\n",
              "            font-size:  10pt;\n",
              "            background-color:  #4b4b4b;\n",
              "            color:  #f1f1f1;\n",
              "        }#T_eddeeb66_a6f7_11eb_b209_0242ac1c0002row2_col10,#T_eddeeb66_a6f7_11eb_b209_0242ac1c0002row7_col10,#T_eddeeb66_a6f7_11eb_b209_0242ac1c0002row8_col8,#T_eddeeb66_a6f7_11eb_b209_0242ac1c0002row8_col10,#T_eddeeb66_a6f7_11eb_b209_0242ac1c0002row9_col8,#T_eddeeb66_a6f7_11eb_b209_0242ac1c0002row9_col10{\n",
              "            font-size:  10pt;\n",
              "            background-color:  #010101;\n",
              "            color:  #f1f1f1;\n",
              "        }#T_eddeeb66_a6f7_11eb_b209_0242ac1c0002row3_col1{\n",
              "            font-size:  10pt;\n",
              "            background-color:  #272727;\n",
              "            color:  #f1f1f1;\n",
              "        }#T_eddeeb66_a6f7_11eb_b209_0242ac1c0002row3_col2{\n",
              "            font-size:  10pt;\n",
              "            background-color:  #0a0a0a;\n",
              "            color:  #f1f1f1;\n",
              "        }#T_eddeeb66_a6f7_11eb_b209_0242ac1c0002row3_col3{\n",
              "            font-size:  10pt;\n",
              "            background-color:  #050505;\n",
              "            color:  #f1f1f1;\n",
              "        }#T_eddeeb66_a6f7_11eb_b209_0242ac1c0002row3_col5{\n",
              "            font-size:  10pt;\n",
              "            background-color:  #333333;\n",
              "            color:  #f1f1f1;\n",
              "        }#T_eddeeb66_a6f7_11eb_b209_0242ac1c0002row3_col6{\n",
              "            font-size:  10pt;\n",
              "            background-color:  #e6e6e6;\n",
              "            color:  #000000;\n",
              "        }#T_eddeeb66_a6f7_11eb_b209_0242ac1c0002row3_col7,#T_eddeeb66_a6f7_11eb_b209_0242ac1c0002row3_col10{\n",
              "            font-size:  10pt;\n",
              "            background-color:  #fafafa;\n",
              "            color:  #000000;\n",
              "        }#T_eddeeb66_a6f7_11eb_b209_0242ac1c0002row3_col8{\n",
              "            font-size:  10pt;\n",
              "            background-color:  #fbfbfb;\n",
              "            color:  #000000;\n",
              "        }#T_eddeeb66_a6f7_11eb_b209_0242ac1c0002row3_col9{\n",
              "            font-size:  10pt;\n",
              "            background-color:  #fdfdfd;\n",
              "            color:  #000000;\n",
              "        }#T_eddeeb66_a6f7_11eb_b209_0242ac1c0002row4_col4{\n",
              "            font-size:  10pt;\n",
              "            background-color:  #1b1b1b;\n",
              "            color:  #f1f1f1;\n",
              "        }#T_eddeeb66_a6f7_11eb_b209_0242ac1c0002row4_col5{\n",
              "            font-size:  10pt;\n",
              "            background-color:  #e0e0e0;\n",
              "            color:  #000000;\n",
              "        }#T_eddeeb66_a6f7_11eb_b209_0242ac1c0002row4_col11{\n",
              "            font-size:  10pt;\n",
              "            background-color:  #4e4e4e;\n",
              "            color:  #f1f1f1;\n",
              "        }#T_eddeeb66_a6f7_11eb_b209_0242ac1c0002row4_col14{\n",
              "            font-size:  10pt;\n",
              "            background-color:  #767676;\n",
              "            color:  #000000;\n",
              "        }#T_eddeeb66_a6f7_11eb_b209_0242ac1c0002row5_col1{\n",
              "            font-size:  10pt;\n",
              "            background-color:  #fcfcfc;\n",
              "            color:  #000000;\n",
              "        }#T_eddeeb66_a6f7_11eb_b209_0242ac1c0002row5_col2,#T_eddeeb66_a6f7_11eb_b209_0242ac1c0002row5_col3{\n",
              "            font-size:  10pt;\n",
              "            background-color:  #f6f6f6;\n",
              "            color:  #000000;\n",
              "        }#T_eddeeb66_a6f7_11eb_b209_0242ac1c0002row5_col4,#T_eddeeb66_a6f7_11eb_b209_0242ac1c0002row7_col7{\n",
              "            font-size:  10pt;\n",
              "            background-color:  #f8f8f8;\n",
              "            color:  #000000;\n",
              "        }#T_eddeeb66_a6f7_11eb_b209_0242ac1c0002row5_col10,#T_eddeeb66_a6f7_11eb_b209_0242ac1c0002row10_col7{\n",
              "            font-size:  10pt;\n",
              "            background-color:  #e8e8e8;\n",
              "            color:  #000000;\n",
              "        }#T_eddeeb66_a6f7_11eb_b209_0242ac1c0002row5_col11{\n",
              "            font-size:  10pt;\n",
              "            background-color:  #222222;\n",
              "            color:  #f1f1f1;\n",
              "        }#T_eddeeb66_a6f7_11eb_b209_0242ac1c0002row5_col13,#T_eddeeb66_a6f7_11eb_b209_0242ac1c0002row6_col12{\n",
              "            font-size:  10pt;\n",
              "            background-color:  #090909;\n",
              "            color:  #f1f1f1;\n",
              "        }#T_eddeeb66_a6f7_11eb_b209_0242ac1c0002row5_col14{\n",
              "            font-size:  10pt;\n",
              "            background-color:  #d0d0d0;\n",
              "            color:  #000000;\n",
              "        }#T_eddeeb66_a6f7_11eb_b209_0242ac1c0002row6_col10,#T_eddeeb66_a6f7_11eb_b209_0242ac1c0002row7_col11,#T_eddeeb66_a6f7_11eb_b209_0242ac1c0002row9_col6{\n",
              "            font-size:  10pt;\n",
              "            background-color:  #060606;\n",
              "            color:  #f1f1f1;\n",
              "        }#T_eddeeb66_a6f7_11eb_b209_0242ac1c0002row6_col13{\n",
              "            font-size:  10pt;\n",
              "            background-color:  #979797;\n",
              "            color:  #000000;\n",
              "        }#T_eddeeb66_a6f7_11eb_b209_0242ac1c0002row7_col8{\n",
              "            font-size:  10pt;\n",
              "            background-color:  #b6b6b6;\n",
              "            color:  #000000;\n",
              "        }#T_eddeeb66_a6f7_11eb_b209_0242ac1c0002row7_col9{\n",
              "            font-size:  10pt;\n",
              "            background-color:  #252525;\n",
              "            color:  #f1f1f1;\n",
              "        }#T_eddeeb66_a6f7_11eb_b209_0242ac1c0002row7_col12{\n",
              "            font-size:  10pt;\n",
              "            background-color:  #999999;\n",
              "            color:  #000000;\n",
              "        }#T_eddeeb66_a6f7_11eb_b209_0242ac1c0002row8_col5{\n",
              "            font-size:  10pt;\n",
              "            background-color:  #f9f9f9;\n",
              "            color:  #000000;\n",
              "        }#T_eddeeb66_a6f7_11eb_b209_0242ac1c0002row8_col7{\n",
              "            font-size:  10pt;\n",
              "            background-color:  #101010;\n",
              "            color:  #f1f1f1;\n",
              "        }#T_eddeeb66_a6f7_11eb_b209_0242ac1c0002row8_col9,#T_eddeeb66_a6f7_11eb_b209_0242ac1c0002row9_col9{\n",
              "            font-size:  10pt;\n",
              "            background-color:  #020202;\n",
              "            color:  #f1f1f1;\n",
              "        }#T_eddeeb66_a6f7_11eb_b209_0242ac1c0002row8_col11{\n",
              "            font-size:  10pt;\n",
              "            background-color:  #545454;\n",
              "            color:  #f1f1f1;\n",
              "        }#T_eddeeb66_a6f7_11eb_b209_0242ac1c0002row8_col12{\n",
              "            font-size:  10pt;\n",
              "            background-color:  #f1f1f1;\n",
              "            color:  #000000;\n",
              "        }#T_eddeeb66_a6f7_11eb_b209_0242ac1c0002row9_col5{\n",
              "            font-size:  10pt;\n",
              "            background-color:  #f7f7f7;\n",
              "            color:  #000000;\n",
              "        }#T_eddeeb66_a6f7_11eb_b209_0242ac1c0002row9_col7{\n",
              "            font-size:  10pt;\n",
              "            background-color:  #030303;\n",
              "            color:  #f1f1f1;\n",
              "        }#T_eddeeb66_a6f7_11eb_b209_0242ac1c0002row9_col12{\n",
              "            font-size:  10pt;\n",
              "            background-color:  #181818;\n",
              "            color:  #f1f1f1;\n",
              "        }#T_eddeeb66_a6f7_11eb_b209_0242ac1c0002row9_col13{\n",
              "            font-size:  10pt;\n",
              "            background-color:  #303030;\n",
              "            color:  #f1f1f1;\n",
              "        }#T_eddeeb66_a6f7_11eb_b209_0242ac1c0002row9_col14{\n",
              "            font-size:  10pt;\n",
              "            background-color:  #a9a9a9;\n",
              "            color:  #000000;\n",
              "        }#T_eddeeb66_a6f7_11eb_b209_0242ac1c0002row9_col15{\n",
              "            font-size:  10pt;\n",
              "            background-color:  #fefefe;\n",
              "            color:  #000000;\n",
              "        }#T_eddeeb66_a6f7_11eb_b209_0242ac1c0002row10_col8,#T_eddeeb66_a6f7_11eb_b209_0242ac1c0002row10_col9{\n",
              "            font-size:  10pt;\n",
              "            background-color:  #bababa;\n",
              "            color:  #000000;\n",
              "        }#T_eddeeb66_a6f7_11eb_b209_0242ac1c0002row10_col10{\n",
              "            font-size:  10pt;\n",
              "            background-color:  #393939;\n",
              "            color:  #f1f1f1;\n",
              "        }</style><table id=\"T_eddeeb66_a6f7_11eb_b209_0242ac1c0002\" ><thead>    <tr>        <th class=\"blank level0\" ></th>        <th class=\"col_heading level0 col0\" >0</th>        <th class=\"col_heading level0 col1\" >1</th>        <th class=\"col_heading level0 col2\" >2</th>        <th class=\"col_heading level0 col3\" >3</th>        <th class=\"col_heading level0 col4\" >4</th>        <th class=\"col_heading level0 col5\" >5</th>        <th class=\"col_heading level0 col6\" >6</th>        <th class=\"col_heading level0 col7\" >7</th>        <th class=\"col_heading level0 col8\" >8</th>        <th class=\"col_heading level0 col9\" >9</th>        <th class=\"col_heading level0 col10\" >10</th>        <th class=\"col_heading level0 col11\" >11</th>        <th class=\"col_heading level0 col12\" >12</th>        <th class=\"col_heading level0 col13\" >13</th>        <th class=\"col_heading level0 col14\" >14</th>        <th class=\"col_heading level0 col15\" >15</th>        <th class=\"col_heading level0 col16\" >16</th>        <th class=\"col_heading level0 col17\" >17</th>    </tr></thead><tbody>\n",
              "                <tr>\n",
              "                        <th id=\"T_eddeeb66_a6f7_11eb_b209_0242ac1c0002level0_row0\" class=\"row_heading level0 row0\" >0</th>\n",
              "                        <td id=\"T_eddeeb66_a6f7_11eb_b209_0242ac1c0002row0_col0\" class=\"data row0 col0\" >0</td>\n",
              "                        <td id=\"T_eddeeb66_a6f7_11eb_b209_0242ac1c0002row0_col1\" class=\"data row0 col1\" >0</td>\n",
              "                        <td id=\"T_eddeeb66_a6f7_11eb_b209_0242ac1c0002row0_col2\" class=\"data row0 col2\" >0</td>\n",
              "                        <td id=\"T_eddeeb66_a6f7_11eb_b209_0242ac1c0002row0_col3\" class=\"data row0 col3\" >0</td>\n",
              "                        <td id=\"T_eddeeb66_a6f7_11eb_b209_0242ac1c0002row0_col4\" class=\"data row0 col4\" >0</td>\n",
              "                        <td id=\"T_eddeeb66_a6f7_11eb_b209_0242ac1c0002row0_col5\" class=\"data row0 col5\" >0</td>\n",
              "                        <td id=\"T_eddeeb66_a6f7_11eb_b209_0242ac1c0002row0_col6\" class=\"data row0 col6\" >0</td>\n",
              "                        <td id=\"T_eddeeb66_a6f7_11eb_b209_0242ac1c0002row0_col7\" class=\"data row0 col7\" >0</td>\n",
              "                        <td id=\"T_eddeeb66_a6f7_11eb_b209_0242ac1c0002row0_col8\" class=\"data row0 col8\" >0</td>\n",
              "                        <td id=\"T_eddeeb66_a6f7_11eb_b209_0242ac1c0002row0_col9\" class=\"data row0 col9\" >0</td>\n",
              "                        <td id=\"T_eddeeb66_a6f7_11eb_b209_0242ac1c0002row0_col10\" class=\"data row0 col10\" >0</td>\n",
              "                        <td id=\"T_eddeeb66_a6f7_11eb_b209_0242ac1c0002row0_col11\" class=\"data row0 col11\" >0</td>\n",
              "                        <td id=\"T_eddeeb66_a6f7_11eb_b209_0242ac1c0002row0_col12\" class=\"data row0 col12\" >0</td>\n",
              "                        <td id=\"T_eddeeb66_a6f7_11eb_b209_0242ac1c0002row0_col13\" class=\"data row0 col13\" >0</td>\n",
              "                        <td id=\"T_eddeeb66_a6f7_11eb_b209_0242ac1c0002row0_col14\" class=\"data row0 col14\" >0</td>\n",
              "                        <td id=\"T_eddeeb66_a6f7_11eb_b209_0242ac1c0002row0_col15\" class=\"data row0 col15\" >0</td>\n",
              "                        <td id=\"T_eddeeb66_a6f7_11eb_b209_0242ac1c0002row0_col16\" class=\"data row0 col16\" >0</td>\n",
              "                        <td id=\"T_eddeeb66_a6f7_11eb_b209_0242ac1c0002row0_col17\" class=\"data row0 col17\" >0</td>\n",
              "            </tr>\n",
              "            <tr>\n",
              "                        <th id=\"T_eddeeb66_a6f7_11eb_b209_0242ac1c0002level0_row1\" class=\"row_heading level0 row1\" >1</th>\n",
              "                        <td id=\"T_eddeeb66_a6f7_11eb_b209_0242ac1c0002row1_col0\" class=\"data row1 col0\" >0</td>\n",
              "                        <td id=\"T_eddeeb66_a6f7_11eb_b209_0242ac1c0002row1_col1\" class=\"data row1 col1\" >0</td>\n",
              "                        <td id=\"T_eddeeb66_a6f7_11eb_b209_0242ac1c0002row1_col2\" class=\"data row1 col2\" >0</td>\n",
              "                        <td id=\"T_eddeeb66_a6f7_11eb_b209_0242ac1c0002row1_col3\" class=\"data row1 col3\" >0</td>\n",
              "                        <td id=\"T_eddeeb66_a6f7_11eb_b209_0242ac1c0002row1_col4\" class=\"data row1 col4\" >0</td>\n",
              "                        <td id=\"T_eddeeb66_a6f7_11eb_b209_0242ac1c0002row1_col5\" class=\"data row1 col5\" >29</td>\n",
              "                        <td id=\"T_eddeeb66_a6f7_11eb_b209_0242ac1c0002row1_col6\" class=\"data row1 col6\" >150</td>\n",
              "                        <td id=\"T_eddeeb66_a6f7_11eb_b209_0242ac1c0002row1_col7\" class=\"data row1 col7\" >195</td>\n",
              "                        <td id=\"T_eddeeb66_a6f7_11eb_b209_0242ac1c0002row1_col8\" class=\"data row1 col8\" >254</td>\n",
              "                        <td id=\"T_eddeeb66_a6f7_11eb_b209_0242ac1c0002row1_col9\" class=\"data row1 col9\" >255</td>\n",
              "                        <td id=\"T_eddeeb66_a6f7_11eb_b209_0242ac1c0002row1_col10\" class=\"data row1 col10\" >254</td>\n",
              "                        <td id=\"T_eddeeb66_a6f7_11eb_b209_0242ac1c0002row1_col11\" class=\"data row1 col11\" >176</td>\n",
              "                        <td id=\"T_eddeeb66_a6f7_11eb_b209_0242ac1c0002row1_col12\" class=\"data row1 col12\" >193</td>\n",
              "                        <td id=\"T_eddeeb66_a6f7_11eb_b209_0242ac1c0002row1_col13\" class=\"data row1 col13\" >150</td>\n",
              "                        <td id=\"T_eddeeb66_a6f7_11eb_b209_0242ac1c0002row1_col14\" class=\"data row1 col14\" >96</td>\n",
              "                        <td id=\"T_eddeeb66_a6f7_11eb_b209_0242ac1c0002row1_col15\" class=\"data row1 col15\" >0</td>\n",
              "                        <td id=\"T_eddeeb66_a6f7_11eb_b209_0242ac1c0002row1_col16\" class=\"data row1 col16\" >0</td>\n",
              "                        <td id=\"T_eddeeb66_a6f7_11eb_b209_0242ac1c0002row1_col17\" class=\"data row1 col17\" >0</td>\n",
              "            </tr>\n",
              "            <tr>\n",
              "                        <th id=\"T_eddeeb66_a6f7_11eb_b209_0242ac1c0002level0_row2\" class=\"row_heading level0 row2\" >2</th>\n",
              "                        <td id=\"T_eddeeb66_a6f7_11eb_b209_0242ac1c0002row2_col0\" class=\"data row2 col0\" >0</td>\n",
              "                        <td id=\"T_eddeeb66_a6f7_11eb_b209_0242ac1c0002row2_col1\" class=\"data row2 col1\" >0</td>\n",
              "                        <td id=\"T_eddeeb66_a6f7_11eb_b209_0242ac1c0002row2_col2\" class=\"data row2 col2\" >0</td>\n",
              "                        <td id=\"T_eddeeb66_a6f7_11eb_b209_0242ac1c0002row2_col3\" class=\"data row2 col3\" >48</td>\n",
              "                        <td id=\"T_eddeeb66_a6f7_11eb_b209_0242ac1c0002row2_col4\" class=\"data row2 col4\" >166</td>\n",
              "                        <td id=\"T_eddeeb66_a6f7_11eb_b209_0242ac1c0002row2_col5\" class=\"data row2 col5\" >224</td>\n",
              "                        <td id=\"T_eddeeb66_a6f7_11eb_b209_0242ac1c0002row2_col6\" class=\"data row2 col6\" >253</td>\n",
              "                        <td id=\"T_eddeeb66_a6f7_11eb_b209_0242ac1c0002row2_col7\" class=\"data row2 col7\" >253</td>\n",
              "                        <td id=\"T_eddeeb66_a6f7_11eb_b209_0242ac1c0002row2_col8\" class=\"data row2 col8\" >234</td>\n",
              "                        <td id=\"T_eddeeb66_a6f7_11eb_b209_0242ac1c0002row2_col9\" class=\"data row2 col9\" >196</td>\n",
              "                        <td id=\"T_eddeeb66_a6f7_11eb_b209_0242ac1c0002row2_col10\" class=\"data row2 col10\" >253</td>\n",
              "                        <td id=\"T_eddeeb66_a6f7_11eb_b209_0242ac1c0002row2_col11\" class=\"data row2 col11\" >253</td>\n",
              "                        <td id=\"T_eddeeb66_a6f7_11eb_b209_0242ac1c0002row2_col12\" class=\"data row2 col12\" >253</td>\n",
              "                        <td id=\"T_eddeeb66_a6f7_11eb_b209_0242ac1c0002row2_col13\" class=\"data row2 col13\" >253</td>\n",
              "                        <td id=\"T_eddeeb66_a6f7_11eb_b209_0242ac1c0002row2_col14\" class=\"data row2 col14\" >233</td>\n",
              "                        <td id=\"T_eddeeb66_a6f7_11eb_b209_0242ac1c0002row2_col15\" class=\"data row2 col15\" >0</td>\n",
              "                        <td id=\"T_eddeeb66_a6f7_11eb_b209_0242ac1c0002row2_col16\" class=\"data row2 col16\" >0</td>\n",
              "                        <td id=\"T_eddeeb66_a6f7_11eb_b209_0242ac1c0002row2_col17\" class=\"data row2 col17\" >0</td>\n",
              "            </tr>\n",
              "            <tr>\n",
              "                        <th id=\"T_eddeeb66_a6f7_11eb_b209_0242ac1c0002level0_row3\" class=\"row_heading level0 row3\" >3</th>\n",
              "                        <td id=\"T_eddeeb66_a6f7_11eb_b209_0242ac1c0002row3_col0\" class=\"data row3 col0\" >0</td>\n",
              "                        <td id=\"T_eddeeb66_a6f7_11eb_b209_0242ac1c0002row3_col1\" class=\"data row3 col1\" >93</td>\n",
              "                        <td id=\"T_eddeeb66_a6f7_11eb_b209_0242ac1c0002row3_col2\" class=\"data row3 col2\" >244</td>\n",
              "                        <td id=\"T_eddeeb66_a6f7_11eb_b209_0242ac1c0002row3_col3\" class=\"data row3 col3\" >249</td>\n",
              "                        <td id=\"T_eddeeb66_a6f7_11eb_b209_0242ac1c0002row3_col4\" class=\"data row3 col4\" >253</td>\n",
              "                        <td id=\"T_eddeeb66_a6f7_11eb_b209_0242ac1c0002row3_col5\" class=\"data row3 col5\" >187</td>\n",
              "                        <td id=\"T_eddeeb66_a6f7_11eb_b209_0242ac1c0002row3_col6\" class=\"data row3 col6\" >46</td>\n",
              "                        <td id=\"T_eddeeb66_a6f7_11eb_b209_0242ac1c0002row3_col7\" class=\"data row3 col7\" >10</td>\n",
              "                        <td id=\"T_eddeeb66_a6f7_11eb_b209_0242ac1c0002row3_col8\" class=\"data row3 col8\" >8</td>\n",
              "                        <td id=\"T_eddeeb66_a6f7_11eb_b209_0242ac1c0002row3_col9\" class=\"data row3 col9\" >4</td>\n",
              "                        <td id=\"T_eddeeb66_a6f7_11eb_b209_0242ac1c0002row3_col10\" class=\"data row3 col10\" >10</td>\n",
              "                        <td id=\"T_eddeeb66_a6f7_11eb_b209_0242ac1c0002row3_col11\" class=\"data row3 col11\" >194</td>\n",
              "                        <td id=\"T_eddeeb66_a6f7_11eb_b209_0242ac1c0002row3_col12\" class=\"data row3 col12\" >253</td>\n",
              "                        <td id=\"T_eddeeb66_a6f7_11eb_b209_0242ac1c0002row3_col13\" class=\"data row3 col13\" >253</td>\n",
              "                        <td id=\"T_eddeeb66_a6f7_11eb_b209_0242ac1c0002row3_col14\" class=\"data row3 col14\" >233</td>\n",
              "                        <td id=\"T_eddeeb66_a6f7_11eb_b209_0242ac1c0002row3_col15\" class=\"data row3 col15\" >0</td>\n",
              "                        <td id=\"T_eddeeb66_a6f7_11eb_b209_0242ac1c0002row3_col16\" class=\"data row3 col16\" >0</td>\n",
              "                        <td id=\"T_eddeeb66_a6f7_11eb_b209_0242ac1c0002row3_col17\" class=\"data row3 col17\" >0</td>\n",
              "            </tr>\n",
              "            <tr>\n",
              "                        <th id=\"T_eddeeb66_a6f7_11eb_b209_0242ac1c0002level0_row4\" class=\"row_heading level0 row4\" >4</th>\n",
              "                        <td id=\"T_eddeeb66_a6f7_11eb_b209_0242ac1c0002row4_col0\" class=\"data row4 col0\" >0</td>\n",
              "                        <td id=\"T_eddeeb66_a6f7_11eb_b209_0242ac1c0002row4_col1\" class=\"data row4 col1\" >107</td>\n",
              "                        <td id=\"T_eddeeb66_a6f7_11eb_b209_0242ac1c0002row4_col2\" class=\"data row4 col2\" >253</td>\n",
              "                        <td id=\"T_eddeeb66_a6f7_11eb_b209_0242ac1c0002row4_col3\" class=\"data row4 col3\" >253</td>\n",
              "                        <td id=\"T_eddeeb66_a6f7_11eb_b209_0242ac1c0002row4_col4\" class=\"data row4 col4\" >230</td>\n",
              "                        <td id=\"T_eddeeb66_a6f7_11eb_b209_0242ac1c0002row4_col5\" class=\"data row4 col5\" >48</td>\n",
              "                        <td id=\"T_eddeeb66_a6f7_11eb_b209_0242ac1c0002row4_col6\" class=\"data row4 col6\" >0</td>\n",
              "                        <td id=\"T_eddeeb66_a6f7_11eb_b209_0242ac1c0002row4_col7\" class=\"data row4 col7\" >0</td>\n",
              "                        <td id=\"T_eddeeb66_a6f7_11eb_b209_0242ac1c0002row4_col8\" class=\"data row4 col8\" >0</td>\n",
              "                        <td id=\"T_eddeeb66_a6f7_11eb_b209_0242ac1c0002row4_col9\" class=\"data row4 col9\" >0</td>\n",
              "                        <td id=\"T_eddeeb66_a6f7_11eb_b209_0242ac1c0002row4_col10\" class=\"data row4 col10\" >0</td>\n",
              "                        <td id=\"T_eddeeb66_a6f7_11eb_b209_0242ac1c0002row4_col11\" class=\"data row4 col11\" >192</td>\n",
              "                        <td id=\"T_eddeeb66_a6f7_11eb_b209_0242ac1c0002row4_col12\" class=\"data row4 col12\" >253</td>\n",
              "                        <td id=\"T_eddeeb66_a6f7_11eb_b209_0242ac1c0002row4_col13\" class=\"data row4 col13\" >253</td>\n",
              "                        <td id=\"T_eddeeb66_a6f7_11eb_b209_0242ac1c0002row4_col14\" class=\"data row4 col14\" >156</td>\n",
              "                        <td id=\"T_eddeeb66_a6f7_11eb_b209_0242ac1c0002row4_col15\" class=\"data row4 col15\" >0</td>\n",
              "                        <td id=\"T_eddeeb66_a6f7_11eb_b209_0242ac1c0002row4_col16\" class=\"data row4 col16\" >0</td>\n",
              "                        <td id=\"T_eddeeb66_a6f7_11eb_b209_0242ac1c0002row4_col17\" class=\"data row4 col17\" >0</td>\n",
              "            </tr>\n",
              "            <tr>\n",
              "                        <th id=\"T_eddeeb66_a6f7_11eb_b209_0242ac1c0002level0_row5\" class=\"row_heading level0 row5\" >5</th>\n",
              "                        <td id=\"T_eddeeb66_a6f7_11eb_b209_0242ac1c0002row5_col0\" class=\"data row5 col0\" >0</td>\n",
              "                        <td id=\"T_eddeeb66_a6f7_11eb_b209_0242ac1c0002row5_col1\" class=\"data row5 col1\" >3</td>\n",
              "                        <td id=\"T_eddeeb66_a6f7_11eb_b209_0242ac1c0002row5_col2\" class=\"data row5 col2\" >20</td>\n",
              "                        <td id=\"T_eddeeb66_a6f7_11eb_b209_0242ac1c0002row5_col3\" class=\"data row5 col3\" >20</td>\n",
              "                        <td id=\"T_eddeeb66_a6f7_11eb_b209_0242ac1c0002row5_col4\" class=\"data row5 col4\" >15</td>\n",
              "                        <td id=\"T_eddeeb66_a6f7_11eb_b209_0242ac1c0002row5_col5\" class=\"data row5 col5\" >0</td>\n",
              "                        <td id=\"T_eddeeb66_a6f7_11eb_b209_0242ac1c0002row5_col6\" class=\"data row5 col6\" >0</td>\n",
              "                        <td id=\"T_eddeeb66_a6f7_11eb_b209_0242ac1c0002row5_col7\" class=\"data row5 col7\" >0</td>\n",
              "                        <td id=\"T_eddeeb66_a6f7_11eb_b209_0242ac1c0002row5_col8\" class=\"data row5 col8\" >0</td>\n",
              "                        <td id=\"T_eddeeb66_a6f7_11eb_b209_0242ac1c0002row5_col9\" class=\"data row5 col9\" >0</td>\n",
              "                        <td id=\"T_eddeeb66_a6f7_11eb_b209_0242ac1c0002row5_col10\" class=\"data row5 col10\" >43</td>\n",
              "                        <td id=\"T_eddeeb66_a6f7_11eb_b209_0242ac1c0002row5_col11\" class=\"data row5 col11\" >224</td>\n",
              "                        <td id=\"T_eddeeb66_a6f7_11eb_b209_0242ac1c0002row5_col12\" class=\"data row5 col12\" >253</td>\n",
              "                        <td id=\"T_eddeeb66_a6f7_11eb_b209_0242ac1c0002row5_col13\" class=\"data row5 col13\" >245</td>\n",
              "                        <td id=\"T_eddeeb66_a6f7_11eb_b209_0242ac1c0002row5_col14\" class=\"data row5 col14\" >74</td>\n",
              "                        <td id=\"T_eddeeb66_a6f7_11eb_b209_0242ac1c0002row5_col15\" class=\"data row5 col15\" >0</td>\n",
              "                        <td id=\"T_eddeeb66_a6f7_11eb_b209_0242ac1c0002row5_col16\" class=\"data row5 col16\" >0</td>\n",
              "                        <td id=\"T_eddeeb66_a6f7_11eb_b209_0242ac1c0002row5_col17\" class=\"data row5 col17\" >0</td>\n",
              "            </tr>\n",
              "            <tr>\n",
              "                        <th id=\"T_eddeeb66_a6f7_11eb_b209_0242ac1c0002level0_row6\" class=\"row_heading level0 row6\" >6</th>\n",
              "                        <td id=\"T_eddeeb66_a6f7_11eb_b209_0242ac1c0002row6_col0\" class=\"data row6 col0\" >0</td>\n",
              "                        <td id=\"T_eddeeb66_a6f7_11eb_b209_0242ac1c0002row6_col1\" class=\"data row6 col1\" >0</td>\n",
              "                        <td id=\"T_eddeeb66_a6f7_11eb_b209_0242ac1c0002row6_col2\" class=\"data row6 col2\" >0</td>\n",
              "                        <td id=\"T_eddeeb66_a6f7_11eb_b209_0242ac1c0002row6_col3\" class=\"data row6 col3\" >0</td>\n",
              "                        <td id=\"T_eddeeb66_a6f7_11eb_b209_0242ac1c0002row6_col4\" class=\"data row6 col4\" >0</td>\n",
              "                        <td id=\"T_eddeeb66_a6f7_11eb_b209_0242ac1c0002row6_col5\" class=\"data row6 col5\" >0</td>\n",
              "                        <td id=\"T_eddeeb66_a6f7_11eb_b209_0242ac1c0002row6_col6\" class=\"data row6 col6\" >0</td>\n",
              "                        <td id=\"T_eddeeb66_a6f7_11eb_b209_0242ac1c0002row6_col7\" class=\"data row6 col7\" >0</td>\n",
              "                        <td id=\"T_eddeeb66_a6f7_11eb_b209_0242ac1c0002row6_col8\" class=\"data row6 col8\" >0</td>\n",
              "                        <td id=\"T_eddeeb66_a6f7_11eb_b209_0242ac1c0002row6_col9\" class=\"data row6 col9\" >0</td>\n",
              "                        <td id=\"T_eddeeb66_a6f7_11eb_b209_0242ac1c0002row6_col10\" class=\"data row6 col10\" >249</td>\n",
              "                        <td id=\"T_eddeeb66_a6f7_11eb_b209_0242ac1c0002row6_col11\" class=\"data row6 col11\" >253</td>\n",
              "                        <td id=\"T_eddeeb66_a6f7_11eb_b209_0242ac1c0002row6_col12\" class=\"data row6 col12\" >245</td>\n",
              "                        <td id=\"T_eddeeb66_a6f7_11eb_b209_0242ac1c0002row6_col13\" class=\"data row6 col13\" >126</td>\n",
              "                        <td id=\"T_eddeeb66_a6f7_11eb_b209_0242ac1c0002row6_col14\" class=\"data row6 col14\" >0</td>\n",
              "                        <td id=\"T_eddeeb66_a6f7_11eb_b209_0242ac1c0002row6_col15\" class=\"data row6 col15\" >0</td>\n",
              "                        <td id=\"T_eddeeb66_a6f7_11eb_b209_0242ac1c0002row6_col16\" class=\"data row6 col16\" >0</td>\n",
              "                        <td id=\"T_eddeeb66_a6f7_11eb_b209_0242ac1c0002row6_col17\" class=\"data row6 col17\" >0</td>\n",
              "            </tr>\n",
              "            <tr>\n",
              "                        <th id=\"T_eddeeb66_a6f7_11eb_b209_0242ac1c0002level0_row7\" class=\"row_heading level0 row7\" >7</th>\n",
              "                        <td id=\"T_eddeeb66_a6f7_11eb_b209_0242ac1c0002row7_col0\" class=\"data row7 col0\" >0</td>\n",
              "                        <td id=\"T_eddeeb66_a6f7_11eb_b209_0242ac1c0002row7_col1\" class=\"data row7 col1\" >0</td>\n",
              "                        <td id=\"T_eddeeb66_a6f7_11eb_b209_0242ac1c0002row7_col2\" class=\"data row7 col2\" >0</td>\n",
              "                        <td id=\"T_eddeeb66_a6f7_11eb_b209_0242ac1c0002row7_col3\" class=\"data row7 col3\" >0</td>\n",
              "                        <td id=\"T_eddeeb66_a6f7_11eb_b209_0242ac1c0002row7_col4\" class=\"data row7 col4\" >0</td>\n",
              "                        <td id=\"T_eddeeb66_a6f7_11eb_b209_0242ac1c0002row7_col5\" class=\"data row7 col5\" >0</td>\n",
              "                        <td id=\"T_eddeeb66_a6f7_11eb_b209_0242ac1c0002row7_col6\" class=\"data row7 col6\" >0</td>\n",
              "                        <td id=\"T_eddeeb66_a6f7_11eb_b209_0242ac1c0002row7_col7\" class=\"data row7 col7\" >14</td>\n",
              "                        <td id=\"T_eddeeb66_a6f7_11eb_b209_0242ac1c0002row7_col8\" class=\"data row7 col8\" >101</td>\n",
              "                        <td id=\"T_eddeeb66_a6f7_11eb_b209_0242ac1c0002row7_col9\" class=\"data row7 col9\" >223</td>\n",
              "                        <td id=\"T_eddeeb66_a6f7_11eb_b209_0242ac1c0002row7_col10\" class=\"data row7 col10\" >253</td>\n",
              "                        <td id=\"T_eddeeb66_a6f7_11eb_b209_0242ac1c0002row7_col11\" class=\"data row7 col11\" >248</td>\n",
              "                        <td id=\"T_eddeeb66_a6f7_11eb_b209_0242ac1c0002row7_col12\" class=\"data row7 col12\" >124</td>\n",
              "                        <td id=\"T_eddeeb66_a6f7_11eb_b209_0242ac1c0002row7_col13\" class=\"data row7 col13\" >0</td>\n",
              "                        <td id=\"T_eddeeb66_a6f7_11eb_b209_0242ac1c0002row7_col14\" class=\"data row7 col14\" >0</td>\n",
              "                        <td id=\"T_eddeeb66_a6f7_11eb_b209_0242ac1c0002row7_col15\" class=\"data row7 col15\" >0</td>\n",
              "                        <td id=\"T_eddeeb66_a6f7_11eb_b209_0242ac1c0002row7_col16\" class=\"data row7 col16\" >0</td>\n",
              "                        <td id=\"T_eddeeb66_a6f7_11eb_b209_0242ac1c0002row7_col17\" class=\"data row7 col17\" >0</td>\n",
              "            </tr>\n",
              "            <tr>\n",
              "                        <th id=\"T_eddeeb66_a6f7_11eb_b209_0242ac1c0002level0_row8\" class=\"row_heading level0 row8\" >8</th>\n",
              "                        <td id=\"T_eddeeb66_a6f7_11eb_b209_0242ac1c0002row8_col0\" class=\"data row8 col0\" >0</td>\n",
              "                        <td id=\"T_eddeeb66_a6f7_11eb_b209_0242ac1c0002row8_col1\" class=\"data row8 col1\" >0</td>\n",
              "                        <td id=\"T_eddeeb66_a6f7_11eb_b209_0242ac1c0002row8_col2\" class=\"data row8 col2\" >0</td>\n",
              "                        <td id=\"T_eddeeb66_a6f7_11eb_b209_0242ac1c0002row8_col3\" class=\"data row8 col3\" >0</td>\n",
              "                        <td id=\"T_eddeeb66_a6f7_11eb_b209_0242ac1c0002row8_col4\" class=\"data row8 col4\" >0</td>\n",
              "                        <td id=\"T_eddeeb66_a6f7_11eb_b209_0242ac1c0002row8_col5\" class=\"data row8 col5\" >11</td>\n",
              "                        <td id=\"T_eddeeb66_a6f7_11eb_b209_0242ac1c0002row8_col6\" class=\"data row8 col6\" >166</td>\n",
              "                        <td id=\"T_eddeeb66_a6f7_11eb_b209_0242ac1c0002row8_col7\" class=\"data row8 col7\" >239</td>\n",
              "                        <td id=\"T_eddeeb66_a6f7_11eb_b209_0242ac1c0002row8_col8\" class=\"data row8 col8\" >253</td>\n",
              "                        <td id=\"T_eddeeb66_a6f7_11eb_b209_0242ac1c0002row8_col9\" class=\"data row8 col9\" >253</td>\n",
              "                        <td id=\"T_eddeeb66_a6f7_11eb_b209_0242ac1c0002row8_col10\" class=\"data row8 col10\" >253</td>\n",
              "                        <td id=\"T_eddeeb66_a6f7_11eb_b209_0242ac1c0002row8_col11\" class=\"data row8 col11\" >187</td>\n",
              "                        <td id=\"T_eddeeb66_a6f7_11eb_b209_0242ac1c0002row8_col12\" class=\"data row8 col12\" >30</td>\n",
              "                        <td id=\"T_eddeeb66_a6f7_11eb_b209_0242ac1c0002row8_col13\" class=\"data row8 col13\" >0</td>\n",
              "                        <td id=\"T_eddeeb66_a6f7_11eb_b209_0242ac1c0002row8_col14\" class=\"data row8 col14\" >0</td>\n",
              "                        <td id=\"T_eddeeb66_a6f7_11eb_b209_0242ac1c0002row8_col15\" class=\"data row8 col15\" >0</td>\n",
              "                        <td id=\"T_eddeeb66_a6f7_11eb_b209_0242ac1c0002row8_col16\" class=\"data row8 col16\" >0</td>\n",
              "                        <td id=\"T_eddeeb66_a6f7_11eb_b209_0242ac1c0002row8_col17\" class=\"data row8 col17\" >0</td>\n",
              "            </tr>\n",
              "            <tr>\n",
              "                        <th id=\"T_eddeeb66_a6f7_11eb_b209_0242ac1c0002level0_row9\" class=\"row_heading level0 row9\" >9</th>\n",
              "                        <td id=\"T_eddeeb66_a6f7_11eb_b209_0242ac1c0002row9_col0\" class=\"data row9 col0\" >0</td>\n",
              "                        <td id=\"T_eddeeb66_a6f7_11eb_b209_0242ac1c0002row9_col1\" class=\"data row9 col1\" >0</td>\n",
              "                        <td id=\"T_eddeeb66_a6f7_11eb_b209_0242ac1c0002row9_col2\" class=\"data row9 col2\" >0</td>\n",
              "                        <td id=\"T_eddeeb66_a6f7_11eb_b209_0242ac1c0002row9_col3\" class=\"data row9 col3\" >0</td>\n",
              "                        <td id=\"T_eddeeb66_a6f7_11eb_b209_0242ac1c0002row9_col4\" class=\"data row9 col4\" >0</td>\n",
              "                        <td id=\"T_eddeeb66_a6f7_11eb_b209_0242ac1c0002row9_col5\" class=\"data row9 col5\" >16</td>\n",
              "                        <td id=\"T_eddeeb66_a6f7_11eb_b209_0242ac1c0002row9_col6\" class=\"data row9 col6\" >248</td>\n",
              "                        <td id=\"T_eddeeb66_a6f7_11eb_b209_0242ac1c0002row9_col7\" class=\"data row9 col7\" >250</td>\n",
              "                        <td id=\"T_eddeeb66_a6f7_11eb_b209_0242ac1c0002row9_col8\" class=\"data row9 col8\" >253</td>\n",
              "                        <td id=\"T_eddeeb66_a6f7_11eb_b209_0242ac1c0002row9_col9\" class=\"data row9 col9\" >253</td>\n",
              "                        <td id=\"T_eddeeb66_a6f7_11eb_b209_0242ac1c0002row9_col10\" class=\"data row9 col10\" >253</td>\n",
              "                        <td id=\"T_eddeeb66_a6f7_11eb_b209_0242ac1c0002row9_col11\" class=\"data row9 col11\" >253</td>\n",
              "                        <td id=\"T_eddeeb66_a6f7_11eb_b209_0242ac1c0002row9_col12\" class=\"data row9 col12\" >232</td>\n",
              "                        <td id=\"T_eddeeb66_a6f7_11eb_b209_0242ac1c0002row9_col13\" class=\"data row9 col13\" >213</td>\n",
              "                        <td id=\"T_eddeeb66_a6f7_11eb_b209_0242ac1c0002row9_col14\" class=\"data row9 col14\" >111</td>\n",
              "                        <td id=\"T_eddeeb66_a6f7_11eb_b209_0242ac1c0002row9_col15\" class=\"data row9 col15\" >2</td>\n",
              "                        <td id=\"T_eddeeb66_a6f7_11eb_b209_0242ac1c0002row9_col16\" class=\"data row9 col16\" >0</td>\n",
              "                        <td id=\"T_eddeeb66_a6f7_11eb_b209_0242ac1c0002row9_col17\" class=\"data row9 col17\" >0</td>\n",
              "            </tr>\n",
              "            <tr>\n",
              "                        <th id=\"T_eddeeb66_a6f7_11eb_b209_0242ac1c0002level0_row10\" class=\"row_heading level0 row10\" >10</th>\n",
              "                        <td id=\"T_eddeeb66_a6f7_11eb_b209_0242ac1c0002row10_col0\" class=\"data row10 col0\" >0</td>\n",
              "                        <td id=\"T_eddeeb66_a6f7_11eb_b209_0242ac1c0002row10_col1\" class=\"data row10 col1\" >0</td>\n",
              "                        <td id=\"T_eddeeb66_a6f7_11eb_b209_0242ac1c0002row10_col2\" class=\"data row10 col2\" >0</td>\n",
              "                        <td id=\"T_eddeeb66_a6f7_11eb_b209_0242ac1c0002row10_col3\" class=\"data row10 col3\" >0</td>\n",
              "                        <td id=\"T_eddeeb66_a6f7_11eb_b209_0242ac1c0002row10_col4\" class=\"data row10 col4\" >0</td>\n",
              "                        <td id=\"T_eddeeb66_a6f7_11eb_b209_0242ac1c0002row10_col5\" class=\"data row10 col5\" >0</td>\n",
              "                        <td id=\"T_eddeeb66_a6f7_11eb_b209_0242ac1c0002row10_col6\" class=\"data row10 col6\" >0</td>\n",
              "                        <td id=\"T_eddeeb66_a6f7_11eb_b209_0242ac1c0002row10_col7\" class=\"data row10 col7\" >43</td>\n",
              "                        <td id=\"T_eddeeb66_a6f7_11eb_b209_0242ac1c0002row10_col8\" class=\"data row10 col8\" >98</td>\n",
              "                        <td id=\"T_eddeeb66_a6f7_11eb_b209_0242ac1c0002row10_col9\" class=\"data row10 col9\" >98</td>\n",
              "                        <td id=\"T_eddeeb66_a6f7_11eb_b209_0242ac1c0002row10_col10\" class=\"data row10 col10\" >208</td>\n",
              "                        <td id=\"T_eddeeb66_a6f7_11eb_b209_0242ac1c0002row10_col11\" class=\"data row10 col11\" >253</td>\n",
              "                        <td id=\"T_eddeeb66_a6f7_11eb_b209_0242ac1c0002row10_col12\" class=\"data row10 col12\" >253</td>\n",
              "                        <td id=\"T_eddeeb66_a6f7_11eb_b209_0242ac1c0002row10_col13\" class=\"data row10 col13\" >253</td>\n",
              "                        <td id=\"T_eddeeb66_a6f7_11eb_b209_0242ac1c0002row10_col14\" class=\"data row10 col14\" >253</td>\n",
              "                        <td id=\"T_eddeeb66_a6f7_11eb_b209_0242ac1c0002row10_col15\" class=\"data row10 col15\" >187</td>\n",
              "                        <td id=\"T_eddeeb66_a6f7_11eb_b209_0242ac1c0002row10_col16\" class=\"data row10 col16\" >22</td>\n",
              "                        <td id=\"T_eddeeb66_a6f7_11eb_b209_0242ac1c0002row10_col17\" class=\"data row10 col17\" >0</td>\n",
              "            </tr>\n",
              "    </tbody></table>"
            ],
            "text/plain": [
              "<pandas.io.formats.style.Styler at 0x7f86fa89b190>"
            ]
          },
          "metadata": {
            "tags": []
          },
          "execution_count": 16
        }
      ]
    },
    {
      "cell_type": "markdown",
      "metadata": {
        "id": "hujgIK_A_Vua"
      },
      "source": [
        "- Pixels range from 0(white) to 255(black)\n",
        "- The background white pixels are stored as the number 0, black is the number 255, and shades of gray are between the two. The entire image contains 28 pixels across and 28 pixels down, for a total of 784 pixels. (This is much smaller than an image that you would get from a phone camera, which has millions of pixels.)"
      ]
    },
    {
      "cell_type": "code",
      "metadata": {
        "id": "dEon65Bg5tDK",
        "colab": {
          "base_uri": "https://localhost:8080/"
        },
        "outputId": "df1ea665-87db-444b-8765-a85de59cb245"
      },
      "source": [
        "(tensor(im3)).shape"
      ],
      "execution_count": null,
      "outputs": [
        {
          "output_type": "execute_result",
          "data": {
            "text/plain": [
              "torch.Size([28, 28])"
            ]
          },
          "metadata": {
            "tags": []
          },
          "execution_count": 17
        }
      ]
    },
    {
      "cell_type": "code",
      "metadata": {
        "id": "4nG-7S5l_tl4",
        "colab": {
          "base_uri": "https://localhost:8080/"
        },
        "outputId": "0997eeab-31a4-4796-e186-82eb28aae6da"
      },
      "source": [
        "tensor(im3)[4:10,4:10].shape"
      ],
      "execution_count": null,
      "outputs": [
        {
          "output_type": "execute_result",
          "data": {
            "text/plain": [
              "torch.Size([6, 6])"
            ]
          },
          "metadata": {
            "tags": []
          },
          "execution_count": 18
        }
      ]
    },
    {
      "cell_type": "markdown",
      "metadata": {
        "id": "ssgRVaXt8taZ"
      },
      "source": [
        "Create a model that can recognize 3s and 7s via Pixel Similarity\n",
        "\n",
        "- first step is to get the average of the groups of 3's and 7's."
      ]
    },
    {
      "cell_type": "code",
      "metadata": {
        "id": "o_wT0PaA_5bj",
        "colab": {
          "base_uri": "https://localhost:8080/"
        },
        "outputId": "bd456464-befa-42dd-f614-2016fab4fe28"
      },
      "source": [
        "sevens"
      ],
      "execution_count": null,
      "outputs": [
        {
          "output_type": "execute_result",
          "data": {
            "text/plain": [
              "(#6265) [Path('train/7/10002.png'),Path('train/7/1001.png'),Path('train/7/10014.png'),Path('train/7/10019.png'),Path('train/7/10039.png'),Path('train/7/10046.png'),Path('train/7/10050.png'),Path('train/7/10063.png'),Path('train/7/10077.png'),Path('train/7/10086.png')...]"
            ]
          },
          "metadata": {
            "tags": []
          },
          "execution_count": 19
        }
      ]
    },
    {
      "cell_type": "code",
      "metadata": {
        "id": "zCqb9rWT4znN"
      },
      "source": [
        "#seven_tensors = [tensor(Image.open(o)) for o in sevens] - processed and saved\n",
        "#seven_tensors"
      ],
      "execution_count": null,
      "outputs": []
    },
    {
      "cell_type": "code",
      "metadata": {
        "id": "ZA5JqBko67jX"
      },
      "source": [
        "# three_tensors = [tensor(Image.open(o)) for o in threes]\n",
        "# three_tensors"
      ],
      "execution_count": null,
      "outputs": []
    },
    {
      "cell_type": "code",
      "metadata": {
        "id": "ItGs0bJD6fJL",
        "colab": {
          "base_uri": "https://localhost:8080/"
        },
        "outputId": "c3a33815-277a-4a92-d3c2-a5f05a85813c"
      },
      "source": [
        "len(sevens),len(threes)"
      ],
      "execution_count": null,
      "outputs": [
        {
          "output_type": "execute_result",
          "data": {
            "text/plain": [
              "(6265, 6131)"
            ]
          },
          "metadata": {
            "tags": []
          },
          "execution_count": 22
        }
      ]
    },
    {
      "cell_type": "code",
      "metadata": {
        "id": "tfQoHJd_Vktk"
      },
      "source": [
        "#joblib.dump(seven_tensors,'seven_tensors.pkl')  # one time processing\n",
        "#joblib.dump(three_tensors,'three_tensors.pkl')"
      ],
      "execution_count": null,
      "outputs": []
    },
    {
      "cell_type": "code",
      "metadata": {
        "id": "_rgO6x8OVUeM",
        "colab": {
          "base_uri": "https://localhost:8080/",
          "height": 35
        },
        "outputId": "12e99f45-ab63-49d9-d682-f2e66fae1c8a"
      },
      "source": [
        "%pwd"
      ],
      "execution_count": null,
      "outputs": [
        {
          "output_type": "execute_result",
          "data": {
            "application/vnd.google.colaboratory.intrinsic+json": {
              "type": "string"
            },
            "text/plain": [
              "'/content/gdrive/My Drive/fastai-v4/lesson3-MNIST'"
            ]
          },
          "metadata": {
            "tags": []
          },
          "execution_count": 25
        }
      ]
    },
    {
      "cell_type": "code",
      "metadata": {
        "id": "AbLemm0Ba8js",
        "colab": {
          "base_uri": "https://localhost:8080/"
        },
        "outputId": "7f4886d0-ad49-414b-9c85-ee7f82add753"
      },
      "source": [
        "three_tensors = joblib.load('three_tensors.pkl')\n",
        "seven_tensors = joblib.load('seven_tensors.pkl')\n",
        "three_tensors[0:1],seven_tensors[0:1]"
      ],
      "execution_count": null,
      "outputs": [
        {
          "output_type": "execute_result",
          "data": {
            "text/plain": [
              "([tensor([[  0,   0,   0,   0,   0,   0,   0,   0,   0,   0,   0,   0,   0,   0,   0,   0,   0,   0,   0,   0,   0,   0,   0,   0,   0,   0,   0,   0],\n",
              "          [  0,   0,   0,   0,   0,   0,   0,   0,   0,   0,   0,   0,   0,   0,   0,   0,   0,   0,   0,   0,   0,   0,   0,   0,   0,   0,   0,   0],\n",
              "          [  0,   0,   0,   0,   0,   0,   0,   0,   0,   0,   0,   0,   0,   0,   0,   0,   0,   0,   0,   0,   0,   0,   0,   0,   0,   0,   0,   0],\n",
              "          [  0,   0,   0,   0,   0,   0,   0,   0,   0,   0,   0,   0,   0,   0,   0,   0,   0,   0,   0,   0,   0,   0,   0,   0,   0,   0,   0,   0],\n",
              "          [  0,   0,   0,   0,   0,   0,   0,   0,   0,   0,   0,  42, 118, 219, 166, 118, 118,   6,   0,   0,   0,   0,   0,   0,   0,   0,   0,   0],\n",
              "          [  0,   0,   0,   0,   0,   0,   0,   0,   0,   0, 103, 242, 254, 254, 254, 254, 254,  66,   0,   0,   0,   0,   0,   0,   0,   0,   0,   0],\n",
              "          [  0,   0,   0,   0,   0,   0,   0,   0,   0,   0,  18, 232, 254, 254, 254, 254, 254, 238,  70,   0,   0,   0,   0,   0,   0,   0,   0,   0],\n",
              "          [  0,   0,   0,   0,   0,   0,   0,   0,   0,   0,   0, 104, 244, 254, 224, 254, 254, 254, 141,   0,   0,   0,   0,   0,   0,   0,   0,   0],\n",
              "          [  0,   0,   0,   0,   0,   0,   0,   0,   0,   0,   0,   0, 207, 254, 210, 254, 254, 254,  34,   0,   0,   0,   0,   0,   0,   0,   0,   0],\n",
              "          [  0,   0,   0,   0,   0,   0,   0,   0,   0,   0,   0,   0,  84, 206, 254, 254, 254, 254,  41,   0,   0,   0,   0,   0,   0,   0,   0,   0],\n",
              "          [  0,   0,   0,   0,   0,   0,   0,   0,   0,   0,   0,   0,   0,  24, 209, 254, 254, 254, 171,   0,   0,   0,   0,   0,   0,   0,   0,   0],\n",
              "          [  0,   0,   0,   0,   0,   0,   0,   0,   0,   0,   0,   0,  91, 137, 253, 254, 254, 254, 112,   0,   0,   0,   0,   0,   0,   0,   0,   0],\n",
              "          [  0,   0,   0,   0,   0,   0,   0,   0,   0,   0,  40, 214, 250, 254, 254, 254, 254, 254,  34,   0,   0,   0,   0,   0,   0,   0,   0,   0],\n",
              "          [  0,   0,   0,   0,   0,   0,   0,   0,   0,   0,  81, 247, 254, 254, 254, 254, 254, 254, 146,   0,   0,   0,   0,   0,   0,   0,   0,   0],\n",
              "          [  0,   0,   0,   0,   0,   0,   0,   0,   0,   0,   0, 110, 246, 254, 254, 254, 254, 254, 171,   0,   0,   0,   0,   0,   0,   0,   0,   0],\n",
              "          [  0,   0,   0,   0,   0,   0,   0,   0,   0,   0,   0,   0,  73,  89,  89,  93, 240, 254, 171,   0,   0,   0,   0,   0,   0,   0,   0,   0],\n",
              "          [  0,   0,   0,   0,   0,   0,   0,   0,   0,   0,   0,   0,   0,   0,   0,   1, 128, 254, 219,  31,   0,   0,   0,   0,   0,   0,   0,   0],\n",
              "          [  0,   0,   0,   0,   0,   0,   0,   0,   0,   0,   0,   0,   0,   0,   0,   7, 254, 254, 214,  28,   0,   0,   0,   0,   0,   0,   0,   0],\n",
              "          [  0,   0,   0,   0,   0,   0,   0,   0,   0,   0,   0,   0,   0,   0,   0, 138, 254, 254, 116,   0,   0,   0,   0,   0,   0,   0,   0,   0],\n",
              "          [  0,   0,   0,   0,   0,   0,  19, 177,  90,   0,   0,   0,   0,   0,  25, 240, 254, 254,  34,   0,   0,   0,   0,   0,   0,   0,   0,   0],\n",
              "          [  0,   0,   0,   0,   0,   0, 164, 254, 215,  63,  36,   0,  51,  89, 206, 254, 254, 139,   8,   0,   0,   0,   0,   0,   0,   0,   0,   0],\n",
              "          [  0,   0,   0,   0,   0,   0,  57, 197, 254, 254, 222, 180, 241, 254, 254, 253, 213,  11,   0,   0,   0,   0,   0,   0,   0,   0,   0,   0],\n",
              "          [  0,   0,   0,   0,   0,   0,   0, 140, 105, 254, 254, 254, 254, 254, 254, 236,   0,   0,   0,   0,   0,   0,   0,   0,   0,   0,   0,   0],\n",
              "          [  0,   0,   0,   0,   0,   0,   0,   0,   7, 117, 117, 165, 254, 254, 239,  50,   0,   0,   0,   0,   0,   0,   0,   0,   0,   0,   0,   0],\n",
              "          [  0,   0,   0,   0,   0,   0,   0,   0,   0,   0,   0,   0,   0,   0,   0,   0,   0,   0,   0,   0,   0,   0,   0,   0,   0,   0,   0,   0],\n",
              "          [  0,   0,   0,   0,   0,   0,   0,   0,   0,   0,   0,   0,   0,   0,   0,   0,   0,   0,   0,   0,   0,   0,   0,   0,   0,   0,   0,   0],\n",
              "          [  0,   0,   0,   0,   0,   0,   0,   0,   0,   0,   0,   0,   0,   0,   0,   0,   0,   0,   0,   0,   0,   0,   0,   0,   0,   0,   0,   0],\n",
              "          [  0,   0,   0,   0,   0,   0,   0,   0,   0,   0,   0,   0,   0,   0,   0,   0,   0,   0,   0,   0,   0,   0,   0,   0,   0,   0,   0,   0]], dtype=torch.uint8)],\n",
              " [tensor([[  0,   0,   0,   0,   0,   0,   0,   0,   0,   0,   0,   0,   0,   0,   0,   0,   0,   0,   0,   0,   0,   0,   0,   0,   0,   0,   0,   0],\n",
              "          [  0,   0,   0,   0,   0,   0,   0,   0,   0,   0,   0,   0,   0,   0,   0,   0,   0,   0,   0,   0,   0,   0,   0,   0,   0,   0,   0,   0],\n",
              "          [  0,   0,   0,   0,   0,   0,   0,   0,   0,   0,   0,   0,   0,   0,   0,   0,   0,   0,   0,   0,   0,   0,   0,   0,   0,   0,   0,   0],\n",
              "          [  0,   0,   0,   0,   0,   0,   0,   0,   0,   0,   0,   0,   0,   0,   0,   0,   0,   0,   0,   0,   0,   0,   0,   0,   0,   0,   0,   0],\n",
              "          [  0,   0,   0,   0,   0,   0,   0,   0,   0,   0,   0,   0,   0,   0,   0,   0,   0,   0,   0,   0,   0,   0,   0,   0,   0,   0,   0,   0],\n",
              "          [  0,   0,   0,   0,   0,   0,   0,   0,   0,   0,   0,   0,   0,   0,   0,   0,   0,   0,   0,   0,   0,   0,   0,   0,   0,   0,   0,   0],\n",
              "          [  0,   0,   0,   0,   0,   0,   0,   0,   0,   0,   0,   0,   0,   0,   0,   0,   0,   0,   0,   0,   0,   0,   0,   0,   0,   0,   0,   0],\n",
              "          [  0,   0,   0,   0,  21,  51, 213, 254, 252, 252, 252, 254, 252, 252, 252, 254, 252, 252, 252, 255, 252, 100,   0,   0,   0,   0,   0,   0],\n",
              "          [  0,   0,   0,  21, 161, 250, 250, 252, 250, 250, 250, 252, 250, 250, 250, 252, 250, 250, 250, 252, 250, 100,   0,   0,   0,   0,   0,   0],\n",
              "          [  0,   0,   0,  51, 250, 250, 250, 252, 189, 190, 250, 252, 250, 250, 250, 252, 250, 250, 250, 252, 189,  40,   0,   0,   0,   0,   0,   0],\n",
              "          [  0,   0,   0,  10, 130, 250, 250,  49,  29,  30,  49,  49,  49,  49,  49,  49,  49, 170, 250, 252, 149,   0,   0,   0,   0,   0,   0,   0],\n",
              "          [  0,   0,   0,   0,   0,   0,   0,   0,   0,   0,   0,   0,   0,   0,   0,  11, 132, 252, 252, 244, 121,   0,   0,   0,   0,   0,   0,   0],\n",
              "          [  0,   0,   0,   0,   0,   0,   0,   0,   0,   0,   0,   0,   0,   0,   0,  51, 250, 250, 250, 202,   0,   0,   0,   0,   0,   0,   0,   0],\n",
              "          [  0,   0,   0,   0,   0,   0,   0,   0,   0,   0,   0,   0,   0,   0,   0, 172, 250, 250, 250,  80,   0,   0,   0,   0,   0,   0,   0,   0],\n",
              "          [  0,   0,   0,   0,   0,   0,   0,   0,   0,   0,   0,   0,   0,   0,   0, 252, 250, 250, 250,   0,   0,   0,   0,   0,   0,   0,   0,   0],\n",
              "          [  0,   0,   0,   0,   0,   0,   0,   0,   0,   0,   0,   0,   0,  31, 213, 254, 252, 252,  49,   0,   0,   0,   0,   0,   0,   0,   0,   0],\n",
              "          [  0,   0,   0,   0,   0,   0,   0,   0,   0,   0,   0,   0,   0, 151, 250, 252, 250, 250,  49,   0,   0,   0,   0,   0,   0,   0,   0,   0],\n",
              "          [  0,   0,   0,   0,   0,   0,   0,   0,   0,   0,   0,   0,   0, 151, 250, 252, 250, 159,  20,   0,   0,   0,   0,   0,   0,   0,   0,   0],\n",
              "          [  0,   0,   0,   0,   0,   0,   0,   0,   0,   0,   0,   0,   0, 151, 250, 252, 250, 100,   0,   0,   0,   0,   0,   0,   0,   0,   0,   0],\n",
              "          [  0,   0,   0,   0,   0,   0,   0,   0,   0,   0,   0,   0,   0, 152, 252, 254, 252, 100,   0,   0,   0,   0,   0,   0,   0,   0,   0,   0],\n",
              "          [  0,   0,   0,   0,   0,   0,   0,   0,   0,   0,   0,   0,   0, 151, 250, 252, 250, 100,   0,   0,   0,   0,   0,   0,   0,   0,   0,   0],\n",
              "          [  0,   0,   0,   0,   0,   0,   0,   0,   0,   0,   0,   0,   0, 151, 250, 252, 250, 100,   0,   0,   0,   0,   0,   0,   0,   0,   0,   0],\n",
              "          [  0,   0,   0,   0,   0,   0,   0,   0,   0,   0,   0,   0,   0, 151, 250, 252, 250, 221,  40,   0,   0,   0,   0,   0,   0,   0,   0,   0],\n",
              "          [  0,   0,   0,   0,   0,   0,   0,   0,   0,   0,   0,   0,   0, 153, 252, 255, 252, 252,  49,   0,   0,   0,   0,   0,   0,   0,   0,   0],\n",
              "          [  0,   0,   0,   0,   0,   0,   0,   0,   0,   0,   0,   0,   0, 151, 250, 252, 250, 250,  49,   0,   0,   0,   0,   0,   0,   0,   0,   0],\n",
              "          [  0,   0,   0,   0,   0,   0,   0,   0,   0,   0,   0,   0,   0,  60, 221, 252, 250, 159,  20,   0,   0,   0,   0,   0,   0,   0,   0,   0],\n",
              "          [  0,   0,   0,   0,   0,   0,   0,   0,   0,   0,   0,   0,   0,   0,  40, 212,  49,  20,   0,   0,   0,   0,   0,   0,   0,   0,   0,   0],\n",
              "          [  0,   0,   0,   0,   0,   0,   0,   0,   0,   0,   0,   0,   0,   0,   0,   0,   0,   0,   0,   0,   0,   0,   0,   0,   0,   0,   0,   0]], dtype=torch.uint8)])"
            ]
          },
          "metadata": {
            "tags": []
          },
          "execution_count": 26
        }
      ]
    },
    {
      "cell_type": "code",
      "metadata": {
        "id": "bwC4YvFR9W0i",
        "colab": {
          "base_uri": "https://localhost:8080/",
          "height": 188
        },
        "outputId": "d1cc887d-b4fb-4cdb-9975-fa4f248360ab"
      },
      "source": [
        "show_image(three_tensors[0]),show_image(seven_tensors[0])"
      ],
      "execution_count": null,
      "outputs": [
        {
          "output_type": "execute_result",
          "data": {
            "text/plain": [
              "(<matplotlib.axes._subplots.AxesSubplot at 0x7f86fa859250>,\n",
              " <matplotlib.axes._subplots.AxesSubplot at 0x7f86fa446d90>)"
            ]
          },
          "metadata": {
            "tags": []
          },
          "execution_count": 27
        },
        {
          "output_type": "display_data",
          "data": {
            "image/png": "[encoded data removed]",
            "text/plain": [
              "<Figure size 72x72 with 1 Axes>"
            ]
          },
          "metadata": {
            "tags": [],
            "needs_background": "light"
          }
        },
        {
          "output_type": "display_data",
          "data": {
            "image/png": "[encoded data removed]",
            "text/plain": [
              "<Figure size 72x72 with 1 Axes>"
            ]
          },
          "metadata": {
            "tags": [],
            "needs_background": "light"
          }
        }
      ]
    },
    {
      "cell_type": "code",
      "metadata": {
        "id": "O8ghcojr-NtD",
        "colab": {
          "base_uri": "https://localhost:8080/"
        },
        "outputId": "d790d73c-c332-4428-d584-fd7b8331dc43"
      },
      "source": [
        "# converting lists to tensors and stacking them into a 3d tensor for performing arithmetic operations easily\n",
        "\n",
        "stacked_sevens = torch.stack(seven_tensors).float()/255 # converting to floats because we don't want int values of the pixels to round off when performing a mean\n",
        "# 0-255 is the range of pixel values, a std is to scale float values between 0 and 1 in CV. Generally when images are floats, the pixel values are expected to be between 0 and 1, so we will also divide by 255 here.\n",
        "stacked_threes = torch.stack(three_tensors).float()/255\n",
        "stacked_threes.shape # rank three tensor-3 axis"
      ],
      "execution_count": null,
      "outputs": [
        {
          "output_type": "execute_result",
          "data": {
            "text/plain": [
              "torch.Size([6131, 28, 28])"
            ]
          },
          "metadata": {
            "tags": []
          },
          "execution_count": 28
        }
      ]
    },
    {
      "cell_type": "code",
      "metadata": {
        "id": "_ygqs-k-_qK1",
        "colab": {
          "base_uri": "https://localhost:8080/"
        },
        "outputId": "7a11f485-3542-4b26-ce26-b798ad0d5827"
      },
      "source": [
        "len(stacked_threes.shape),stacked_threes.ndim # rank of tensor\n",
        "\n",
        "#There is nothing specifically about this tensor that says that the first axis is the number of images,\n",
        "#the second is the height, and the third is the width—the semantics of a tensor are entirely up to us, and how we construct it."
      ],
      "execution_count": null,
      "outputs": [
        {
          "output_type": "execute_result",
          "data": {
            "text/plain": [
              "(3, 3)"
            ]
          },
          "metadata": {
            "tags": []
          },
          "execution_count": 29
        }
      ]
    },
    {
      "cell_type": "markdown",
      "metadata": {
        "id": "RQADS3UHqduw"
      },
      "source": [
        "sometimes dimension is used for the size of an axis (\"space is three-dimensional\"); other times, it is used for the rank, or the number of axes (\"a matrix has two dimensions\").It's helpful to translate all statements into terms of rank, axis, and length, which are unambiguous terms."
      ]
    },
    {
      "cell_type": "code",
      "metadata": {
        "colab": {
          "base_uri": "https://localhost:8080/",
          "height": 102
        },
        "id": "tKx6-0LAdRSl",
        "outputId": "7ab91bb1-1994-4dd9-c123-dd5c778a9113"
      },
      "source": [
        "mean3 = stacked_threes.mean(0)\n",
        "show_image(mean3)"
      ],
      "execution_count": null,
      "outputs": [
        {
          "output_type": "execute_result",
          "data": {
            "text/plain": [
              "<matplotlib.axes._subplots.AxesSubplot at 0x7f86fa313390>"
            ]
          },
          "metadata": {
            "tags": []
          },
          "execution_count": 30
        },
        {
          "output_type": "display_data",
          "data": {
            "image/png": "[encoded data removed]",
            "text/plain": [
              "<Figure size 72x72 with 1 Axes>"
            ]
          },
          "metadata": {
            "tags": [],
            "needs_background": "light"
          }
        }
      ]
    },
    {
      "cell_type": "code",
      "metadata": {
        "id": "gknXtdWLQBDy",
        "colab": {
          "base_uri": "https://localhost:8080/",
          "height": 102
        },
        "outputId": "84686ef8-d337-4712-f911-62e12d3ed899"
      },
      "source": [
        "mean7 = stacked_sevens.mean(0)\n",
        "show_image(mean7)"
      ],
      "execution_count": null,
      "outputs": [
        {
          "output_type": "execute_result",
          "data": {
            "text/plain": [
              "<matplotlib.axes._subplots.AxesSubplot at 0x7f86fa03b2d0>"
            ]
          },
          "metadata": {
            "tags": []
          },
          "execution_count": 31
        },
        {
          "output_type": "display_data",
          "data": {
            "image/png": "[encoded data removed]",
            "text/plain": [
              "<Figure size 72x72 with 1 Axes>"
            ]
          },
          "metadata": {
            "tags": [],
            "needs_background": "light"
          }
        }
      ]
    },
    {
      "cell_type": "code",
      "metadata": {
        "id": "2seyf3XtQic1",
        "colab": {
          "base_uri": "https://localhost:8080/",
          "height": 102
        },
        "outputId": "d46eb759-89e0-43da-dc2b-2936dcf9212e"
      },
      "source": [
        "a_3 = stacked_threes[1]\n",
        "show_image(a_3)"
      ],
      "execution_count": null,
      "outputs": [
        {
          "output_type": "execute_result",
          "data": {
            "text/plain": [
              "<matplotlib.axes._subplots.AxesSubplot at 0x7f86fa290750>"
            ]
          },
          "metadata": {
            "tags": []
          },
          "execution_count": 32
        },
        {
          "output_type": "display_data",
          "data": {
            "image/png": "[encoded data removed]",
            "text/plain": [
              "<Figure size 72x72 with 1 Axes>"
            ]
          },
          "metadata": {
            "tags": [],
            "needs_background": "light"
          }
        }
      ]
    },
    {
      "cell_type": "markdown",
      "metadata": {
        "id": "FWQZdKKdZPH9"
      },
      "source": [
        "Taking an absolute/squared difference, since differences will cancel out, resulting in a situation where an image that is too dark in some places and too light in others might be shown as having zero total differences from the ideal. That would be misleading!"
      ]
    },
    {
      "cell_type": "code",
      "metadata": {
        "colab": {
          "base_uri": "https://localhost:8080/"
        },
        "id": "Kd1Ixn-Hkqy3",
        "outputId": "0f9870b0-da25-4222-a2ab-fbb8e06f7740"
      },
      "source": [
        "dist_3_abs = (a_3 - mean3).abs().mean()\n",
        "dist_3_sqr = ((a_3 - mean3)**2).mean().sqrt()\n",
        "dist_3_abs, dist_3_sqr"
      ],
      "execution_count": null,
      "outputs": [
        {
          "output_type": "execute_result",
          "data": {
            "text/plain": [
              "(tensor(0.1114), tensor(0.2021))"
            ]
          },
          "metadata": {
            "tags": []
          },
          "execution_count": 33
        }
      ]
    },
    {
      "cell_type": "code",
      "metadata": {
        "id": "PsVK283eTW1M",
        "colab": {
          "base_uri": "https://localhost:8080/"
        },
        "outputId": "f065eebd-e8d5-4ff2-8fd0-041dad9ff1d8"
      },
      "source": [
        "dist_7_abs = (a_3 - mean7).abs().mean()\n",
        "dist_7_sqr = ((a_3 - mean7)**2).mean().sqrt()\n",
        "dist_7_abs,dist_7_sqr"
      ],
      "execution_count": null,
      "outputs": [
        {
          "output_type": "execute_result",
          "data": {
            "text/plain": [
              "(tensor(0.1586), tensor(0.3021))"
            ]
          },
          "metadata": {
            "tags": []
          },
          "execution_count": 34
        }
      ]
    },
    {
      "cell_type": "code",
      "metadata": {
        "id": "fOFyE0lNqFVJ",
        "colab": {
          "base_uri": "https://localhost:8080/"
        },
        "outputId": "34bfcc70-b76a-43f1-93db-4781bc358d5d"
      },
      "source": [
        "F.l1_loss(a_3,mean7),F.mse_loss(a_3,mean7).sqrt() # same thing using pytorch"
      ],
      "execution_count": null,
      "outputs": [
        {
          "output_type": "execute_result",
          "data": {
            "text/plain": [
              "(tensor(0.1586), tensor(0.3021))"
            ]
          },
          "metadata": {
            "tags": []
          },
          "execution_count": 35
        }
      ]
    },
    {
      "cell_type": "markdown",
      "metadata": {
        "id": "HLVwElnE4MYv"
      },
      "source": [
        "## Working with arrays and tensors\n",
        "\n",
        "A NumPy array is a multidimensional table of data, with all items of the same type. Since that can be any type at all, they can even be arrays of arrays, with the innermost arrays potentially being different sizes—this is called a \"jagged array.\" By \"multidimensional table\" we mean, for instance, a list (dimension of one), a table or matrix (dimension of two), a \"table of tables\" or \"cube\" (dimension of three), and so forth. If the items are all of some simple type such as integer or float, then NumPy will store them as a compact C data structure in memory. This is where NumPy shines. NumPy has a wide variety of operators and methods that can run computations on these compact structures at the same speed as optimized C, because they are written in optimized C.\n",
        "\n",
        "A PyTorch tensor is nearly the same thing as a NumPy array, but with an additional restriction that unlocks some additional capabilities. It's the same in that it, too, is a multidimensional table of data, with all items of the same type. However, the restriction is that a tensor cannot use just any old type—it has to use a single basic numeric type for all components. For example, a PyTorch tensor cannot be jagged. It is always a regularly shaped multidimensional rectangular structure.\n",
        "\n",
        "The vast majority of methods and operators supported by NumPy on these structures are also supported by PyTorch, but PyTorch tensors have additional capabilities. One major capability is that these structures can live on the GPU, in which case their computation will be optimized for the GPU and can run much faster (given lots of values to work on). In addition, PyTorch can automatically calculate derivatives of these operations, including combinations of operations. As you'll see, it would be impossible to do deep learning in practice without this capability."
      ]
    },
    {
      "cell_type": "code",
      "metadata": {
        "id": "Mo2JXAgHH6tj"
      },
      "source": [
        "\n",
        "data = [[1,2,3],[4,5,6]]\n",
        "arr = array(data)\n",
        "tns = tensor(data)"
      ],
      "execution_count": null,
      "outputs": []
    },
    {
      "cell_type": "code",
      "metadata": {
        "id": "g8TvXY5-K3wu",
        "colab": {
          "base_uri": "https://localhost:8080/"
        },
        "outputId": "3545010a-da47-44ad-f851-32ab5ee13d4f"
      },
      "source": [
        "tns"
      ],
      "execution_count": null,
      "outputs": [
        {
          "output_type": "execute_result",
          "data": {
            "text/plain": [
              "tensor([[1, 2, 3],\n",
              "        [4, 5, 6]])"
            ]
          },
          "metadata": {
            "tags": []
          },
          "execution_count": 37
        }
      ]
    },
    {
      "cell_type": "code",
      "metadata": {
        "id": "M1Ys16fjK4hs",
        "colab": {
          "base_uri": "https://localhost:8080/"
        },
        "outputId": "815e1221-b4db-4a03-ac02-770ff8b5befd"
      },
      "source": [
        "arr"
      ],
      "execution_count": null,
      "outputs": [
        {
          "output_type": "execute_result",
          "data": {
            "text/plain": [
              "array([[1, 2, 3],\n",
              "       [4, 5, 6]])"
            ]
          },
          "metadata": {
            "tags": []
          },
          "execution_count": 38
        }
      ]
    },
    {
      "cell_type": "code",
      "metadata": {
        "id": "wOqQZoGDPqxx",
        "colab": {
          "base_uri": "https://localhost:8080/"
        },
        "outputId": "cdf2a9a1-8305-4f8a-b295-998156e25732"
      },
      "source": [
        "tns[1],arr[1]"
      ],
      "execution_count": null,
      "outputs": [
        {
          "output_type": "execute_result",
          "data": {
            "text/plain": [
              "(tensor([4, 5, 6]), array([4, 5, 6]))"
            ]
          },
          "metadata": {
            "tags": []
          },
          "execution_count": 39
        }
      ]
    },
    {
      "cell_type": "code",
      "metadata": {
        "id": "6VowH6eCT8E-",
        "colab": {
          "base_uri": "https://localhost:8080/"
        },
        "outputId": "99266a4e-4a0d-4830-95e1-c4f3a1cf0e0f"
      },
      "source": [
        "tns[:,1]"
      ],
      "execution_count": null,
      "outputs": [
        {
          "output_type": "execute_result",
          "data": {
            "text/plain": [
              "tensor([2, 5])"
            ]
          },
          "metadata": {
            "tags": []
          },
          "execution_count": 40
        }
      ]
    },
    {
      "cell_type": "code",
      "metadata": {
        "id": "iuGMcpr7WY1T",
        "colab": {
          "base_uri": "https://localhost:8080/"
        },
        "outputId": "745db390-8d29-4c84-b0b7-289dc8e10c0e"
      },
      "source": [
        "tns[1,1:3]"
      ],
      "execution_count": null,
      "outputs": [
        {
          "output_type": "execute_result",
          "data": {
            "text/plain": [
              "tensor([5, 6])"
            ]
          },
          "metadata": {
            "tags": []
          },
          "execution_count": 41
        }
      ]
    },
    {
      "cell_type": "code",
      "metadata": {
        "id": "LsHZJcpFW_VC",
        "colab": {
          "base_uri": "https://localhost:8080/"
        },
        "outputId": "0ba9d39f-4375-43f6-8172-7321f849ddce"
      },
      "source": [
        "tns+1"
      ],
      "execution_count": null,
      "outputs": [
        {
          "output_type": "execute_result",
          "data": {
            "text/plain": [
              "tensor([[2, 3, 4],\n",
              "        [5, 6, 7]])"
            ]
          },
          "metadata": {
            "tags": []
          },
          "execution_count": 42
        }
      ]
    },
    {
      "cell_type": "code",
      "metadata": {
        "id": "xPQ9gSxfXyoI",
        "colab": {
          "base_uri": "https://localhost:8080/"
        },
        "outputId": "aa72d5bc-2d71-4c64-c445-b3d1eff3c8b4"
      },
      "source": [
        "type(tns),tns.type() # type of tensor"
      ],
      "execution_count": null,
      "outputs": [
        {
          "output_type": "execute_result",
          "data": {
            "text/plain": [
              "(torch.Tensor, 'torch.LongTensor')"
            ]
          },
          "metadata": {
            "tags": []
          },
          "execution_count": 43
        }
      ]
    },
    {
      "cell_type": "code",
      "metadata": {
        "id": "FElbSlfOX-nR",
        "colab": {
          "base_uri": "https://localhost:8080/"
        },
        "outputId": "411eb6d6-6d06-4f6b-f918-3b40711383f0"
      },
      "source": [
        "tns*2"
      ],
      "execution_count": null,
      "outputs": [
        {
          "output_type": "execute_result",
          "data": {
            "text/plain": [
              "tensor([[ 2,  4,  6],\n",
              "        [ 8, 10, 12]])"
            ]
          },
          "metadata": {
            "tags": []
          },
          "execution_count": 44
        }
      ]
    },
    {
      "cell_type": "code",
      "metadata": {
        "id": "Lh7DARV6YQej",
        "colab": {
          "base_uri": "https://localhost:8080/"
        },
        "outputId": "ef8948d0-d332-4d9b-aa11-f09560c70da6"
      },
      "source": [
        "tns*1.5 # get floats"
      ],
      "execution_count": null,
      "outputs": [
        {
          "output_type": "execute_result",
          "data": {
            "text/plain": [
              "tensor([[1.5000, 3.0000, 4.5000],\n",
              "        [6.0000, 7.5000, 9.0000]])"
            ]
          },
          "metadata": {
            "tags": []
          },
          "execution_count": 45
        }
      ]
    },
    {
      "cell_type": "code",
      "metadata": {
        "id": "wAiOC7CZYbpG",
        "colab": {
          "base_uri": "https://localhost:8080/"
        },
        "outputId": "718d404b-21d0-4b1a-e66a-3cb250291cb8"
      },
      "source": [
        "tns/2"
      ],
      "execution_count": null,
      "outputs": [
        {
          "output_type": "execute_result",
          "data": {
            "text/plain": [
              "tensor([[0.5000, 1.0000, 1.5000],\n",
              "        [2.0000, 2.5000, 3.0000]])"
            ]
          },
          "metadata": {
            "tags": []
          },
          "execution_count": 46
        }
      ]
    },
    {
      "cell_type": "code",
      "metadata": {
        "id": "tZYxSVKyY1wR",
        "colab": {
          "base_uri": "https://localhost:8080/"
        },
        "outputId": "edc6b672-fdc0-42cf-d931-c42979e2fcf3"
      },
      "source": [
        "# validation set for 3's and 7's\n",
        "\n",
        "# valid_3_tens = torch.stack([tensor(Image.open(o))\n",
        "#                              for o in (path/'valid'/'3').ls()])\n",
        "# valid_3_tens = valid_3_tens.float()/255\n",
        "\n",
        "# valid_7_tens = torch.stack([tensor(Image.open(o))\n",
        "#                             for o in (path/'valid'/'7').ls()])\n",
        "# valid_7_tens = valid_7_tens.float()/255\n",
        "\n",
        "# joblib.dump(valid_3_tens,'valid_3_tens.pkl')\n",
        "# joblib.dump(valid_7_tens,'valid_7_tens.pkl')\n",
        "\n",
        "#########-One time operation-#############\n",
        "valid_3_tens = joblib.load('valid_3_tens.pkl')\n",
        "valid_7_tens = joblib.load(\"valid_7_tens.pkl\")\n",
        "\n",
        "valid_3_tens.shape,valid_7_tens.shape"
      ],
      "execution_count": null,
      "outputs": [
        {
          "output_type": "execute_result",
          "data": {
            "text/plain": [
              "(torch.Size([1010, 28, 28]), torch.Size([1028, 28, 28]))"
            ]
          },
          "metadata": {
            "tags": []
          },
          "execution_count": 47
        }
      ]
    },
    {
      "cell_type": "code",
      "metadata": {
        "colab": {
          "base_uri": "https://localhost:8080/"
        },
        "id": "TEfWLm1V_nrY",
        "outputId": "376217d9-c7c3-44a3-8319-0d722dc69d88"
      },
      "source": [
        "(path/'valid'/'7').ls()"
      ],
      "execution_count": null,
      "outputs": [
        {
          "output_type": "execute_result",
          "data": {
            "text/plain": [
              "(#1028) [Path('valid/7/5751.png'),Path('valid/7/1520.png'),Path('valid/7/1754.png'),Path('valid/7/2104.png'),Path('valid/7/2482.png'),Path('valid/7/771.png'),Path('valid/7/7460.png'),Path('valid/7/262.png'),Path('valid/7/2671.png'),Path('valid/7/3294.png')...]"
            ]
          },
          "metadata": {
            "tags": []
          },
          "execution_count": 48
        }
      ]
    },
    {
      "cell_type": "code",
      "metadata": {
        "colab": {
          "base_uri": "https://localhost:8080/"
        },
        "id": "qTNTrDbJCH5D",
        "outputId": "5ad22539-12f0-458a-a683-982455c8b8e6"
      },
      "source": [
        "def mnist_distance(a,b): return (a-b).abs().mean((-1,-2))\n",
        "mnist_distance(a_3, mean3)"
      ],
      "execution_count": null,
      "outputs": [
        {
          "output_type": "execute_result",
          "data": {
            "text/plain": [
              "tensor(0.1114)"
            ]
          },
          "metadata": {
            "tags": []
          },
          "execution_count": 49
        }
      ]
    },
    {
      "cell_type": "code",
      "metadata": {
        "colab": {
          "base_uri": "https://localhost:8080/"
        },
        "id": "qrCCjfpyZI_b",
        "outputId": "3db1d8f8-0692-4fc4-dc89-28483106fdc1"
      },
      "source": [
        "a_3.shape,mean3.shape,valid_3_tens.shape,mean3.shape"
      ],
      "execution_count": null,
      "outputs": [
        {
          "output_type": "execute_result",
          "data": {
            "text/plain": [
              "(torch.Size([28, 28]),\n",
              " torch.Size([28, 28]),\n",
              " torch.Size([1010, 28, 28]),\n",
              " torch.Size([28, 28]))"
            ]
          },
          "metadata": {
            "tags": []
          },
          "execution_count": 50
        }
      ]
    },
    {
      "cell_type": "markdown",
      "metadata": {
        "id": "__dU1pQtAJVy"
      },
      "source": [
        " PyTorch, when it tries to perform a simple subtraction operation between two tensors of different ranks, will use broadcasting. That is, it will automatically expand the tensor with the smaller rank to have the same size as the one with the larger rank. Broadcasting is an important capability that makes tensor code much easier to write.\n",
        "\n",
        "After broadcasting so the two argument tensors have the same rank, PyTorch applies its usual logic for two tensors of the same rank: it performs the operation on each corresponding element of the two tensors, and returns the tensor result.\n",
        "In this case, PyTorch treats mean3, a rank-2 tensor representing a single image, as if it were 1,010 copies of the same image, and then subtracts each of those copies from each 3 in our validation set."
      ]
    },
    {
      "cell_type": "code",
      "metadata": {
        "colab": {
          "base_uri": "https://localhost:8080/"
        },
        "id": "2KhusQdAbHYQ",
        "outputId": "15ba989c-383c-4bb4-cad2-5e91fa1623a9"
      },
      "source": [
        "valid_3_dist = mnist_distance(valid_3_tens,mean3)  # automatically uses broadcasting\n",
        "valid_3_dist,valid_3_dist.shape"
      ],
      "execution_count": null,
      "outputs": [
        {
          "output_type": "execute_result",
          "data": {
            "text/plain": [
              "(tensor([0.1272, 0.1080, 0.1209,  ..., 0.1422, 0.1578, 0.1387]),\n",
              " torch.Size([1010]))"
            ]
          },
          "metadata": {
            "tags": []
          },
          "execution_count": 51
        }
      ]
    },
    {
      "cell_type": "code",
      "metadata": {
        "colab": {
          "base_uri": "https://localhost:8080/"
        },
        "id": "vxB0mPKefHL8",
        "outputId": "79b01719-22f0-4f76-d502-3fbf23f491fe"
      },
      "source": [
        "(valid_3_tens-mean3).shape, tensor([1,2,3]) + tensor(1)"
      ],
      "execution_count": null,
      "outputs": [
        {
          "output_type": "execute_result",
          "data": {
            "text/plain": [
              "(torch.Size([1010, 28, 28]), tensor([2, 3, 4]))"
            ]
          },
          "metadata": {
            "tags": []
          },
          "execution_count": 52
        }
      ]
    },
    {
      "cell_type": "markdown",
      "metadata": {
        "id": "4W5jUy-9A7mB"
      },
      "source": [
        "\n",
        "PyTorch doesn't actually copy mean3 1,010 times. It pretends it were a tensor of that shape, but doesn't actually allocate any additional memory\n",
        "It does the whole calculation in C (or, if you're using a GPU, in CUDA, the equivalent of C on the GPU), tens of thousands of times faster than pure Python (up to millions of times faster on a GPU!).\n",
        "This is true of all broadcasting and elementwise operations and functions done in PyTorch. It's the most important technique for you to know to create efficient PyTorch code.\n",
        "\n",
        "Finally, our function calls mean((-1,-2)). The tuple (-1,-2) represents a range of axes. In Python, -1 refers to the last element, and -2 refers to the second-to-last. So in this case, this tells PyTorch that we want to take the mean ranging over the values indexed by the last two axes of the tensor. The last two axes are the horizontal and vertical dimensions of an image. After taking the mean over the last two axes, we are left with just the first tensor axis, which indexes over our images, which is why our final size was (1010). In other words, for every image, we averaged the intensity of all the pixels in that image."
      ]
    },
    {
      "cell_type": "code",
      "metadata": {
        "id": "vLm2C6z_Ciwq"
      },
      "source": [
        "def is_3(x): return mnist_distance(x,mean3) < mnist_distance(x,mean7)"
      ],
      "execution_count": null,
      "outputs": []
    },
    {
      "cell_type": "code",
      "metadata": {
        "colab": {
          "base_uri": "https://localhost:8080/"
        },
        "id": "MdqW1uCth0tR",
        "outputId": "efdd742e-6c94-4fcb-8787-97186f299f31"
      },
      "source": [
        "is_3(a_3), is_3(a_3).float()"
      ],
      "execution_count": null,
      "outputs": [
        {
          "output_type": "execute_result",
          "data": {
            "text/plain": [
              "(tensor(True), tensor(1.))"
            ]
          },
          "metadata": {
            "tags": []
          },
          "execution_count": 54
        }
      ]
    },
    {
      "cell_type": "code",
      "metadata": {
        "colab": {
          "base_uri": "https://localhost:8080/"
        },
        "id": "KxQssa9oDnwX",
        "outputId": "513d6872-62cd-46b0-ec14-909ea37945c1"
      },
      "source": [
        "is_3(valid_3_tens)"
      ],
      "execution_count": null,
      "outputs": [
        {
          "output_type": "execute_result",
          "data": {
            "text/plain": [
              "tensor([True, True, True,  ..., True, True, True])"
            ]
          },
          "metadata": {
            "tags": []
          },
          "execution_count": 55
        }
      ]
    },
    {
      "cell_type": "code",
      "metadata": {
        "colab": {
          "base_uri": "https://localhost:8080/"
        },
        "id": "jG9fTLgFExZ-",
        "outputId": "8a0a9f80-2c06-4e8c-e3c0-ef4df0725fd4"
      },
      "source": [
        "accuracy_3s = is_3(valid_3_tens).float().mean()\n",
        "accuracy_7s = 1 - (is_3(valid_7_tens).float().mean())\n",
        "\n",
        "accuracy_3s,accuracy_7s,(accuracy_3s+accuracy_7s)/2"
      ],
      "execution_count": null,
      "outputs": [
        {
          "output_type": "execute_result",
          "data": {
            "text/plain": [
              "(tensor(0.9168), tensor(0.9854), tensor(0.9511))"
            ]
          },
          "metadata": {
            "tags": []
          },
          "execution_count": 56
        }
      ]
    },
    {
      "cell_type": "markdown",
      "metadata": {
        "id": "4KPXlFdQkUm_"
      },
      "source": [
        "#Gradient descent Implementation-1\n",
        "\n",
        "Taking gradients in pytorch. Assuming below function 'f' to be our loss func with a randomly initialised input param as 'x'."
      ]
    },
    {
      "cell_type": "code",
      "metadata": {
        "id": "GXyKCiXPUFZj"
      },
      "source": [
        "def f(x): return (x**2)"
      ],
      "execution_count": null,
      "outputs": []
    },
    {
      "cell_type": "code",
      "metadata": {
        "colab": {
          "base_uri": "https://localhost:8080/",
          "height": 357
        },
        "id": "K4E9oz5yUJGE",
        "outputId": "8f0be1e8-1771-4f7b-df55-7b7925fcb016"
      },
      "source": [
        "plot_function(f, 'x', 'x**2')\n",
        "plt.scatter(-1.5, f(-1.5), color='red') # moving x along the gradient & looking at the slope- Newton's method\n",
        "plt.scatter(-1.0, f(-1.0), color='red')\n"
      ],
      "execution_count": null,
      "outputs": [
        {
          "output_type": "stream",
          "text": [
            "/usr/local/lib/python3.7/dist-packages/fastbook/__init__.py:73: UserWarning: Not providing a value for linspace's steps is deprecated and will throw a runtime error in a future release. This warning will appear only once per process. (Triggered internally at  /pytorch/aten/src/ATen/native/RangeFactories.cpp:23.)\n",
            "  x = torch.linspace(min,max)\n"
          ],
          "name": "stderr"
        },
        {
          "output_type": "execute_result",
          "data": {
            "text/plain": [
              "<matplotlib.collections.PathCollection at 0x7f86f9d33910>"
            ]
          },
          "metadata": {
            "tags": []
          },
          "execution_count": 58
        },
        {
          "output_type": "display_data",
          "data": {
            "image/png": "[encoded data removed]",
            "text/plain": [
              "<Figure size 432x288 with 1 Axes>"
            ]
          },
          "metadata": {
            "tags": [],
            "needs_background": "light"
          }
        }
      ]
    },
    {
      "cell_type": "code",
      "metadata": {
        "colab": {
          "base_uri": "https://localhost:8080/"
        },
        "id": "N7IDCOzfE3Em",
        "outputId": "f324d93a-38cd-41bf-a318-07700147e0b7"
      },
      "source": [
        "xt = tensor(3.).requires_grad_() # _ in the end resembles inplace operation\n",
        "xt,xt.grad # gradient = derivative = slope, derivative is not taken thus gradient is 0"
      ],
      "execution_count": null,
      "outputs": [
        {
          "output_type": "execute_result",
          "data": {
            "text/plain": [
              "(tensor(3., requires_grad=True), None)"
            ]
          },
          "metadata": {
            "tags": []
          },
          "execution_count": 59
        }
      ]
    },
    {
      "cell_type": "code",
      "metadata": {
        "colab": {
          "base_uri": "https://localhost:8080/"
        },
        "id": "qfx7N8KCH8Bg",
        "outputId": "9997f88a-e383-481c-9aa0-2bd9c7739264"
      },
      "source": [
        "yt = f(xt)\n",
        "yt # grad_fn is storing & identifying the operations being done on xt"
      ],
      "execution_count": null,
      "outputs": [
        {
          "output_type": "execute_result",
          "data": {
            "text/plain": [
              "tensor(9., grad_fn=<PowBackward0>)"
            ]
          },
          "metadata": {
            "tags": []
          },
          "execution_count": 60
        }
      ]
    },
    {
      "cell_type": "code",
      "metadata": {
        "colab": {
          "base_uri": "https://localhost:8080/"
        },
        "id": "RDF_BDjg86Lu",
        "outputId": "135ba6f2-025d-48e2-f7d3-e83ad66f7cb3"
      },
      "source": [
        "yt.backward() # performing backpropagation i.e taking the derivative\n",
        "yt"
      ],
      "execution_count": null,
      "outputs": [
        {
          "output_type": "execute_result",
          "data": {
            "text/plain": [
              "tensor(9., grad_fn=<PowBackward0>)"
            ]
          },
          "metadata": {
            "tags": []
          },
          "execution_count": 61
        }
      ]
    },
    {
      "cell_type": "code",
      "metadata": {
        "colab": {
          "base_uri": "https://localhost:8080/"
        },
        "id": "BfJsQ-Sb9TN-",
        "outputId": "63be6f84-40a3-47a7-d74a-a0570b4ed059"
      },
      "source": [
        "xt.grad # since derivative of 3**2 = 2*3 = 6"
      ],
      "execution_count": null,
      "outputs": [
        {
          "output_type": "execute_result",
          "data": {
            "text/plain": [
              "tensor(6.)"
            ]
          },
          "metadata": {
            "tags": []
          },
          "execution_count": 62
        }
      ]
    },
    {
      "cell_type": "code",
      "metadata": {
        "colab": {
          "base_uri": "https://localhost:8080/"
        },
        "id": "sIuVkohDAE1N",
        "outputId": "febd2219-ec23-4346-9b4a-2f1d42674755"
      },
      "source": [
        "xt = tensor([3.,4.,10.]).requires_grad_()  # vector calculus\n",
        "xt"
      ],
      "execution_count": null,
      "outputs": [
        {
          "output_type": "execute_result",
          "data": {
            "text/plain": [
              "tensor([ 3.,  4., 10.], requires_grad=True)"
            ]
          },
          "metadata": {
            "tags": []
          },
          "execution_count": 63
        }
      ]
    },
    {
      "cell_type": "code",
      "metadata": {
        "colab": {
          "base_uri": "https://localhost:8080/"
        },
        "id": "_f06pOQIAaA0",
        "outputId": "ebffa0dd-dcef-424b-bb14-26386666f0cd"
      },
      "source": [
        "def f(x): return(x**2).sum()\n",
        "\n",
        "yt = f(xt)\n",
        "yt"
      ],
      "execution_count": null,
      "outputs": [
        {
          "output_type": "execute_result",
          "data": {
            "text/plain": [
              "tensor(125., grad_fn=<SumBackward0>)"
            ]
          },
          "metadata": {
            "tags": []
          },
          "execution_count": 64
        }
      ]
    },
    {
      "cell_type": "code",
      "metadata": {
        "id": "ICI4sHTL7Qa1"
      },
      "source": [
        "yt.backward()"
      ],
      "execution_count": null,
      "outputs": []
    },
    {
      "cell_type": "code",
      "metadata": {
        "colab": {
          "base_uri": "https://localhost:8080/"
        },
        "id": "f9IkJWzaDKDc",
        "outputId": "bb9e48eb-b608-42f9-8b70-a270bce3e646"
      },
      "source": [
        "xt.grad"
      ],
      "execution_count": null,
      "outputs": [
        {
          "output_type": "execute_result",
          "data": {
            "text/plain": [
              "tensor([ 6.,  8., 20.])"
            ]
          },
          "metadata": {
            "tags": []
          },
          "execution_count": 66
        }
      ]
    },
    {
      "cell_type": "markdown",
      "metadata": {
        "id": "zOsWZKBNEH6c"
      },
      "source": [
        "gradient is the rate of change eg. 3 is the slope, now on tweaking the parameters by +- 3 we can calculate our loss.\n",
        "\n",
        "learning rate is usually b/w 0.001 & 0.1\n",
        "Once you've picked a learning rate, you can adjust your parameters using this simple function:\n",
        "\n",
        "```\n",
        "w -= gradient(w) * lr\n",
        "```\n",
        "\n",
        "This is known as *stepping* your parameters, using an *optimizer step*.\n",
        "\n",
        "The gradients only tell us the slope of our function, they don't actually tell us exactly how far to adjust the parameters. But it gives us some idea of how far; if the slope is very large, then that may suggest that we have more adjustments to do, whereas if the slope is very small, that may suggest that we are close to the optimal value."
      ]
    },
    {
      "cell_type": "markdown",
      "metadata": {
        "id": "RsRZOZk-KTw2"
      },
      "source": [
        "# Gradient descent implementation - 2\n",
        "\n",
        "Implementing GD for predicting speed of a rollercoaster at each time interval\n",
        "by assuming a quadratic function as our hypothesis function which maps time to speed."
      ]
    },
    {
      "cell_type": "code",
      "metadata": {
        "colab": {
          "base_uri": "https://localhost:8080/"
        },
        "id": "2ZBQnklEo9SM",
        "outputId": "40ddeb65-259e-4fd0-ed7b-6889cfe37221"
      },
      "source": [
        "time = torch.arange(0,20).float()\n",
        "time,time.size()"
      ],
      "execution_count": null,
      "outputs": [
        {
          "output_type": "execute_result",
          "data": {
            "text/plain": [
              "(tensor([ 0.,  1.,  2.,  3.,  4.,  5.,  6.,  7.,  8.,  9., 10., 11., 12., 13., 14., 15., 16., 17., 18., 19.]),\n",
              " torch.Size([20]))"
            ]
          },
          "metadata": {
            "tags": []
          },
          "execution_count": 5
        }
      ]
    },
    {
      "cell_type": "markdown",
      "metadata": {
        "id": "ROM2zSnEJ5zT"
      },
      "source": [
        "* Adding random noise since measuring speed manually isn't precise. Using GD we can try to find a function that matches our observations.\n",
        "* We can't consider every possible function, so let's use a guess that it will be quadratic; i.e., a function of the form a*(time**2)+(b*time)+c where time is our x and speed is our y."
      ]
    },
    {
      "cell_type": "code",
      "metadata": {
        "colab": {
          "base_uri": "https://localhost:8080/",
          "height": 267
        },
        "id": "RrU6nRqDoqoW",
        "outputId": "1ea4f877-b3ca-48e5-97c4-5fb265922bcb"
      },
      "source": [
        "speed = torch.randn(20)*3 + 0.75*(time-9.5)**2 + 1 # adding noise using randn and representing the quadratic func(with 0.75 & 9.5 as randomly initialised params) using vertex form\n",
        "plt.scatter(time,speed);"
      ],
      "execution_count": null,
      "outputs": [
        {
          "output_type": "display_data",
          "data": {
            "image/png": "[encoded data removed]",
            "text/plain": [
              "<Figure size 432x288 with 1 Axes>"
            ]
          },
          "metadata": {
            "tags": [],
            "needs_background": "light"
          }
        }
      ]
    },
    {
      "cell_type": "markdown",
      "metadata": {
        "id": "jLKmigE6QcbX"
      },
      "source": [
        "* We want to distinguish clearly between the function's input (the time when we are measuring the coaster's speed) and its parameters (the values that define which quadratic we're trying). So, let's collect the parameters in one argument and thus separate the input, t, and the parameters, params, in the function's signature.\n",
        "* In other words, we've restricted the problem of finding the best imaginable function that fits the data, to finding the best quadratic function. This greatly simplifies the problem, since every quadratic function is fully defined by just the three parameters a, b, and c. Thus, to find the best quadratic function, we only need to find the best values for a, b, and c.\n",
        "* If we can solve this problem for the three parameters of a quadratic function, we'll be able to apply the same approach for other, more complex functions with more parameters—such as a neural net."
      ]
    },
    {
      "cell_type": "code",
      "metadata": {
        "id": "hgbXp3UvOaPt"
      },
      "source": [
        "def f(t, params):\n",
        "  a,b,c = params\n",
        "  return a*(t**2) + (b*t) + c # HYPOTHESIS func which returns speed(y).\n",
        "\n",
        "# loss func\n",
        "\n",
        "def mse(preds, targets): return ((preds-targets)**2).mean()"
      ],
      "execution_count": null,
      "outputs": []
    },
    {
      "cell_type": "markdown",
      "metadata": {
        "id": "Xna-v5GJmxJz"
      },
      "source": [
        "7 step process by Arthur Samuel to find the best weights(parameters) for a,b,c to optimise our quadratic func."
      ]
    },
    {
      "cell_type": "code",
      "metadata": {
        "id": "W8T0MuEFsdFC",
        "colab": {
          "base_uri": "https://localhost:8080/"
        },
        "outputId": "8017a62f-bba0-46ba-d8a7-b8e9c0bb0f70"
      },
      "source": [
        "# step 1 - randomly initialise the weights for our parameters and preserve their gradients\n",
        "params = torch.randn(3).requires_grad_()\n",
        "params"
      ],
      "execution_count": null,
      "outputs": [
        {
          "output_type": "execute_result",
          "data": {
            "text/plain": [
              "tensor([0.2815, 0.0562, 0.5227], requires_grad=True)"
            ]
          },
          "metadata": {
            "tags": []
          },
          "execution_count": 43
        }
      ]
    },
    {
      "cell_type": "code",
      "metadata": {
        "colab": {
          "base_uri": "https://localhost:8080/"
        },
        "id": "7IjFw3M6t4lt",
        "outputId": "c4e9eaa3-ccdc-45eb-f15f-1e8064a8ea7c"
      },
      "source": [
        "orig_params = params.clone()\n",
        "orig_params"
      ],
      "execution_count": null,
      "outputs": [
        {
          "output_type": "execute_result",
          "data": {
            "text/plain": [
              "tensor([0.2815, 0.0562, 0.5227], grad_fn=<CloneBackward>)"
            ]
          },
          "metadata": {
            "tags": []
          },
          "execution_count": 44
        }
      ]
    },
    {
      "cell_type": "code",
      "metadata": {
        "colab": {
          "base_uri": "https://localhost:8080/"
        },
        "id": "MqHAVEYIwEHD",
        "outputId": "ea64df10-2afc-41a8-eaba-f11ee0bc1860"
      },
      "source": [
        "# step 2 - calculate the predictions\n",
        "preds = f(time,params)\n",
        "preds,len(preds)"
      ],
      "execution_count": null,
      "outputs": [
        {
          "output_type": "execute_result",
          "data": {
            "text/plain": [
              "(tensor([  0.5227,   0.8604,   1.7611,   3.2249,   5.2517,   7.8415,  10.9944,  14.7103,  18.9893,  23.8313,  29.2363,  35.2044,  41.7355,  48.8296,  56.4868,  64.7071,  73.4903,  82.8366,  92.7460,\n",
              "         103.2184], grad_fn=<AddBackward0>), 20)"
            ]
          },
          "metadata": {
            "tags": []
          },
          "execution_count": 45
        }
      ]
    },
    {
      "cell_type": "code",
      "metadata": {
        "id": "GaDhoI3pOMh4"
      },
      "source": [
        "# viz preds vs actuals\n",
        "def show_preds(preds, ax=None):\n",
        "  if ax is None: ax = plt.subplots()[1]\n",
        "  ax.scatter(time, speed)\n",
        "  ax.scatter(time, to_np(preds), color='red')\n",
        "  ax.set_ylim(-300, 100)"
      ],
      "execution_count": null,
      "outputs": []
    },
    {
      "cell_type": "code",
      "metadata": {
        "colab": {
          "base_uri": "https://localhost:8080/",
          "height": 273
        },
        "id": "z9uYU1bUleW2",
        "outputId": "94c7e053-79c7-46bd-97e3-706b64c0a2f4"
      },
      "source": [
        "show_preds(preds)"
      ],
      "execution_count": null,
      "outputs": [
        {
          "output_type": "display_data",
          "data": {
            "image/png": "[encoded data removed]",
            "text/plain": [
              "<Figure size 432x288 with 1 Axes>"
            ]
          },
          "metadata": {
            "tags": [],
            "needs_background": "light"
          }
        }
      ]
    },
    {
      "cell_type": "code",
      "metadata": {
        "colab": {
          "base_uri": "https://localhost:8080/"
        },
        "id": "j05Qf-BoznJv",
        "outputId": "7f86a422-e318-4803-a972-fba449232dea"
      },
      "source": [
        "# step 3- calculate the loss\n",
        "\n",
        "loss = mse(preds,speed)\n",
        "loss"
      ],
      "execution_count": null,
      "outputs": [
        {
          "output_type": "execute_result",
          "data": {
            "text/plain": [
              "tensor(1325.5891, grad_fn=<MeanBackward0>)"
            ]
          },
          "metadata": {
            "tags": []
          },
          "execution_count": 48
        }
      ]
    },
    {
      "cell_type": "code",
      "metadata": {
        "colab": {
          "base_uri": "https://localhost:8080/"
        },
        "id": "bJ5sxMBN061X",
        "outputId": "ec493d87-0b39-4ce9-9efc-bd1c9468f650"
      },
      "source": [
        "# step 4- calcualte gradients- in other words an approaximation of how the parameters need to change/slope\n",
        "loss.backward()\n",
        "params.grad"
      ],
      "execution_count": null,
      "outputs": [
        {
          "output_type": "execute_result",
          "data": {
            "text/plain": [
              "tensor([8442.9541,  544.7577,   18.4759])"
            ]
          },
          "metadata": {
            "tags": []
          },
          "execution_count": 49
        }
      ]
    },
    {
      "cell_type": "code",
      "metadata": {
        "colab": {
          "base_uri": "https://localhost:8080/"
        },
        "id": "iZ8u_zSNXFS9",
        "outputId": "47e55e3a-695d-496b-a9ec-6e2cf3ffe2c4"
      },
      "source": [
        "params.grad * 1e-5 # 1e equivalent to 10 & thus 1e-5 =  10**-5 or 0.00001\n"
      ],
      "execution_count": null,
      "outputs": [
        {
          "output_type": "execute_result",
          "data": {
            "text/plain": [
              "tensor([0.2990, 0.0192, 0.0011])"
            ]
          },
          "metadata": {
            "tags": []
          },
          "execution_count": 25
        }
      ]
    },
    {
      "cell_type": "code",
      "metadata": {
        "colab": {
          "base_uri": "https://localhost:8080/"
        },
        "id": "0U8y3Vf8ZN90",
        "outputId": "60e29c17-a398-48ec-a288-9ad72f592464"
      },
      "source": [
        "params"
      ],
      "execution_count": null,
      "outputs": [
        {
          "output_type": "execute_result",
          "data": {
            "text/plain": [
              "tensor([ 0.6863, -0.3278,  0.7950], requires_grad=True)"
            ]
          },
          "metadata": {
            "tags": []
          },
          "execution_count": 26
        }
      ]
    },
    {
      "cell_type": "code",
      "metadata": {
        "id": "uDcFCnr0i6-G"
      },
      "source": [
        "# step 5 - step the weights i.e to update the parameters based on the gradients we calculated:\n",
        "lr = 1e-5\n",
        "params.data -= lr*params.grad.data # .data is used to tell pytorch to ignore the gradients for this step/ignore calculation at this step for taking gradients."
      ],
      "execution_count": null,
      "outputs": []
    },
    {
      "cell_type": "code",
      "metadata": {
        "id": "XEdKPmtFlV5a"
      },
      "source": [
        "params.grad = None # deleting the gradients once the stepping has been done"
      ],
      "execution_count": null,
      "outputs": []
    },
    {
      "cell_type": "markdown",
      "metadata": {
        "id": "xDZ4c-9Shvfw"
      },
      "source": [
        "To calculate the gradients we call backward on the loss. But this loss was itself calculated by mse, which in turn took preds as an input, which was calculated using f taking as an input params, which was the object on which we originally called required_grads_—which is the original call that now allows us to call backward on loss. This chain of function calls represents the mathematical composition of functions, which enables PyTorch to use calculus's chain rule under the hood to calculate these gradients."
      ]
    },
    {
      "cell_type": "code",
      "metadata": {
        "colab": {
          "base_uri": "https://localhost:8080/"
        },
        "id": "rGJ0gF5pmSGA",
        "outputId": "0c7d3e20-e74c-4038-b694-847674ffc0ff"
      },
      "source": [
        "params"
      ],
      "execution_count": null,
      "outputs": [
        {
          "output_type": "execute_result",
          "data": {
            "text/plain": [
              "tensor([ 0.3873, -0.3469,  0.7939], requires_grad=True)"
            ]
          },
          "metadata": {
            "tags": []
          },
          "execution_count": 30
        }
      ]
    },
    {
      "cell_type": "code",
      "metadata": {
        "colab": {
          "base_uri": "https://localhost:8080/"
        },
        "id": "unYCSqJymGYA",
        "outputId": "9ddb23f5-dc21-4618-97c2-05a18cda6288"
      },
      "source": [
        "preds = f(time,params)\n",
        "mse(preds,speed)"
      ],
      "execution_count": null,
      "outputs": [
        {
          "output_type": "execute_result",
          "data": {
            "text/plain": [
              "tensor(2190.2759, grad_fn=<MeanBackward0>)"
            ]
          },
          "metadata": {
            "tags": []
          },
          "execution_count": 31
        }
      ]
    },
    {
      "cell_type": "code",
      "metadata": {
        "colab": {
          "base_uri": "https://localhost:8080/",
          "height": 273
        },
        "id": "kQ_sgb77mjtI",
        "outputId": "3793597f-55d9-4413-fd04-0e92b2926f4b"
      },
      "source": [
        "show_preds(preds)"
      ],
      "execution_count": null,
      "outputs": [
        {
          "output_type": "display_data",
          "data": {
            "image/png": "[encoded data removed]",
            "text/plain": [
              "<Figure size 432x288 with 1 Axes>"
            ]
          },
          "metadata": {
            "tags": [],
            "needs_background": "light"
          }
        }
      ]
    },
    {
      "cell_type": "code",
      "metadata": {
        "colab": {
          "base_uri": "https://localhost:8080/"
        },
        "id": "JLM1tJUYpCOQ",
        "outputId": "a53fac50-4758-4722-953d-f9246c64b3eb"
      },
      "source": [
        "loss.item(),loss"
      ],
      "execution_count": null,
      "outputs": [
        {
          "output_type": "execute_result",
          "data": {
            "text/plain": [
              "(8631.7373046875, tensor(8631.7373, grad_fn=<MeanBackward0>))"
            ]
          },
          "metadata": {
            "tags": []
          },
          "execution_count": 33
        }
      ]
    },
    {
      "cell_type": "code",
      "metadata": {
        "id": "biZLRRpGpPtS"
      },
      "source": [
        "#step 6- repeat the process for epochs"
      ],
      "execution_count": null,
      "outputs": []
    },
    {
      "cell_type": "code",
      "metadata": {
        "id": "Y29-wO4vmv7_"
      },
      "source": [
        "def apply_step(params,prn=True):\n",
        "  preds = f(time,params)\n",
        "  loss = mse(preds,speed)\n",
        "  loss.backward() # calculates gradient\n",
        "  params.data -= lr*params.grad.data\n",
        "  params.grad = None\n",
        "  if prn: print(loss.item())\n",
        "  return preds\n"
      ],
      "execution_count": null,
      "outputs": []
    },
    {
      "cell_type": "code",
      "metadata": {
        "colab": {
          "base_uri": "https://localhost:8080/"
        },
        "id": "Sctlx2TNpqyu",
        "outputId": "d62ce9fd-efd5-4284-fe01-ecd3881ee8c5"
      },
      "source": [
        "for i in range(20): apply_step(params) # loss is going down  slowly because of very small lr"
      ],
      "execution_count": null,
      "outputs": [
        {
          "output_type": "stream",
          "text": [
            "686.7850341796875\n",
            "686.7811279296875\n",
            "686.7770385742188\n",
            "686.7730712890625\n",
            "686.7692260742188\n",
            "686.7652587890625\n",
            "686.7614135742188\n",
            "686.7574462890625\n",
            "686.7535400390625\n",
            "686.7496337890625\n",
            "686.7457275390625\n",
            "686.7417602539062\n",
            "686.7378540039062\n",
            "686.7340087890625\n",
            "686.72998046875\n",
            "686.7261962890625\n",
            "686.72216796875\n",
            "686.71826171875\n",
            "686.7142944335938\n",
            "686.7103881835938\n"
          ],
          "name": "stdout"
        }
      ]
    },
    {
      "cell_type": "code",
      "metadata": {
        "colab": {
          "base_uri": "https://localhost:8080/"
        },
        "id": "ZKxV1NE_mHSm",
        "outputId": "217f5eb3-03d7-496d-c626-a48804cbdc1a"
      },
      "source": [
        "params"
      ],
      "execution_count": null,
      "outputs": [
        {
          "output_type": "execute_result",
          "data": {
            "text/plain": [
              "tensor([ 0.1570, -0.3607,  0.8007], requires_grad=True)"
            ]
          },
          "metadata": {
            "tags": []
          },
          "execution_count": 40
        }
      ]
    },
    {
      "cell_type": "code",
      "metadata": {
        "id": "0PvwTpDsWLfX"
      },
      "source": [
        "params = orig_params.detach().requires_grad_() # Repeating same process via viz. detach returns new tensor removed from current graph"
      ],
      "execution_count": null,
      "outputs": []
    },
    {
      "cell_type": "code",
      "metadata": {
        "id": "qI3TPKD6p8Dh",
        "colab": {
          "base_uri": "https://localhost:8080/"
        },
        "outputId": "b58110cf-8515-4511-e138-7accf1ebb686"
      },
      "source": [
        "params"
      ],
      "execution_count": null,
      "outputs": [
        {
          "output_type": "execute_result",
          "data": {
            "text/plain": [
              "tensor([ 0.6863, -0.3278,  0.7950], requires_grad=True)"
            ]
          },
          "metadata": {
            "tags": []
          },
          "execution_count": 42
        }
      ]
    },
    {
      "cell_type": "code",
      "metadata": {
        "colab": {
          "base_uri": "https://localhost:8080/",
          "height": 221
        },
        "id": "e0D2_2GpWj-3",
        "outputId": "81fb3ddf-d8ea-4cb2-f695-8f1224f52160"
      },
      "source": [
        "_,axs = plt.subplots(1,4,figsize=(12,3))\n",
        "for ax in axs: show_preds(apply_step(params,False),ax)\n",
        "plt.tight_layout()"
      ],
      "execution_count": null,
      "outputs": [
        {
          "output_type": "display_data",
          "data": {
            "image/png": "[encoded data removed]",
            "text/plain": [
              "<Figure size 864x216 with 4 Axes>"
            ]
          },
          "metadata": {
            "tags": [],
            "needs_background": "light"
          }
        }
      ]
    },
    {
      "cell_type": "code",
      "metadata": {
        "id": "u2fsfmyuq6qf"
      },
      "source": [
        "# STEP 7- IS TO STOP AFTER A POINT/ EPOCHS/ITERATIONS"
      ],
      "execution_count": null,
      "outputs": []
    }
  ]
}